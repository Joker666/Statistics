{
 "cells": [
  {
   "cell_type": "code",
   "execution_count": 1,
   "metadata": {},
   "outputs": [],
   "source": [
    "import pandas as pd\n",
    "import seaborn as sns\n",
    "import plotly.express as px\n",
    "import matplotlib.pyplot as plt"
   ]
  },
  {
   "cell_type": "code",
   "execution_count": 6,
   "metadata": {},
   "outputs": [
    {
     "data": {
      "application/vnd.plotly.v1+json": {
       "config": {
        "plotlyServerURL": "https://plot.ly"
       },
       "data": [
        {
         "alignmentgroup": "True",
         "hovertemplate": "Location=United Kingdom<br>Name of University=%{x}<br>No of student=%{y}<extra></extra>",
         "legendgroup": "United Kingdom",
         "marker": {
          "color": "#636efa",
          "pattern": {
           "shape": ""
          }
         },
         "name": "United Kingdom",
         "offsetgroup": "United Kingdom",
         "orientation": "v",
         "showlegend": true,
         "textposition": "auto",
         "type": "bar",
         "x": [
          "University of Oxford",
          "University of Cambridge"
         ],
         "xaxis": "x",
         "y": [
          "20,965",
          "20,185"
         ],
         "yaxis": "y"
        },
        {
         "alignmentgroup": "True",
         "hovertemplate": "Location=United States<br>Name of University=%{x}<br>No of student=%{y}<extra></extra>",
         "legendgroup": "United States",
         "marker": {
          "color": "#EF553B",
          "pattern": {
           "shape": ""
          }
         },
         "name": "United States",
         "offsetgroup": "United States",
         "orientation": "v",
         "showlegend": true,
         "textposition": "auto",
         "type": "bar",
         "x": [
          "Harvard University",
          "Stanford University",
          "Massachusetts Institute of Technology"
         ],
         "xaxis": "x",
         "y": [
          "21,887",
          "16,164",
          "11,415"
         ],
         "yaxis": "y"
        }
       ],
       "layout": {
        "barmode": "relative",
        "legend": {
         "title": {
          "text": "Location"
         },
         "tracegroupgap": 0
        },
        "margin": {
         "t": 60
        },
        "template": {
         "data": {
          "bar": [
           {
            "error_x": {
             "color": "#2a3f5f"
            },
            "error_y": {
             "color": "#2a3f5f"
            },
            "marker": {
             "line": {
              "color": "#E5ECF6",
              "width": 0.5
             },
             "pattern": {
              "fillmode": "overlay",
              "size": 10,
              "solidity": 0.2
             }
            },
            "type": "bar"
           }
          ],
          "barpolar": [
           {
            "marker": {
             "line": {
              "color": "#E5ECF6",
              "width": 0.5
             },
             "pattern": {
              "fillmode": "overlay",
              "size": 10,
              "solidity": 0.2
             }
            },
            "type": "barpolar"
           }
          ],
          "carpet": [
           {
            "aaxis": {
             "endlinecolor": "#2a3f5f",
             "gridcolor": "white",
             "linecolor": "white",
             "minorgridcolor": "white",
             "startlinecolor": "#2a3f5f"
            },
            "baxis": {
             "endlinecolor": "#2a3f5f",
             "gridcolor": "white",
             "linecolor": "white",
             "minorgridcolor": "white",
             "startlinecolor": "#2a3f5f"
            },
            "type": "carpet"
           }
          ],
          "choropleth": [
           {
            "colorbar": {
             "outlinewidth": 0,
             "ticks": ""
            },
            "type": "choropleth"
           }
          ],
          "contour": [
           {
            "colorbar": {
             "outlinewidth": 0,
             "ticks": ""
            },
            "colorscale": [
             [
              0,
              "#0d0887"
             ],
             [
              0.1111111111111111,
              "#46039f"
             ],
             [
              0.2222222222222222,
              "#7201a8"
             ],
             [
              0.3333333333333333,
              "#9c179e"
             ],
             [
              0.4444444444444444,
              "#bd3786"
             ],
             [
              0.5555555555555556,
              "#d8576b"
             ],
             [
              0.6666666666666666,
              "#ed7953"
             ],
             [
              0.7777777777777778,
              "#fb9f3a"
             ],
             [
              0.8888888888888888,
              "#fdca26"
             ],
             [
              1,
              "#f0f921"
             ]
            ],
            "type": "contour"
           }
          ],
          "contourcarpet": [
           {
            "colorbar": {
             "outlinewidth": 0,
             "ticks": ""
            },
            "type": "contourcarpet"
           }
          ],
          "heatmap": [
           {
            "colorbar": {
             "outlinewidth": 0,
             "ticks": ""
            },
            "colorscale": [
             [
              0,
              "#0d0887"
             ],
             [
              0.1111111111111111,
              "#46039f"
             ],
             [
              0.2222222222222222,
              "#7201a8"
             ],
             [
              0.3333333333333333,
              "#9c179e"
             ],
             [
              0.4444444444444444,
              "#bd3786"
             ],
             [
              0.5555555555555556,
              "#d8576b"
             ],
             [
              0.6666666666666666,
              "#ed7953"
             ],
             [
              0.7777777777777778,
              "#fb9f3a"
             ],
             [
              0.8888888888888888,
              "#fdca26"
             ],
             [
              1,
              "#f0f921"
             ]
            ],
            "type": "heatmap"
           }
          ],
          "heatmapgl": [
           {
            "colorbar": {
             "outlinewidth": 0,
             "ticks": ""
            },
            "colorscale": [
             [
              0,
              "#0d0887"
             ],
             [
              0.1111111111111111,
              "#46039f"
             ],
             [
              0.2222222222222222,
              "#7201a8"
             ],
             [
              0.3333333333333333,
              "#9c179e"
             ],
             [
              0.4444444444444444,
              "#bd3786"
             ],
             [
              0.5555555555555556,
              "#d8576b"
             ],
             [
              0.6666666666666666,
              "#ed7953"
             ],
             [
              0.7777777777777778,
              "#fb9f3a"
             ],
             [
              0.8888888888888888,
              "#fdca26"
             ],
             [
              1,
              "#f0f921"
             ]
            ],
            "type": "heatmapgl"
           }
          ],
          "histogram": [
           {
            "marker": {
             "pattern": {
              "fillmode": "overlay",
              "size": 10,
              "solidity": 0.2
             }
            },
            "type": "histogram"
           }
          ],
          "histogram2d": [
           {
            "colorbar": {
             "outlinewidth": 0,
             "ticks": ""
            },
            "colorscale": [
             [
              0,
              "#0d0887"
             ],
             [
              0.1111111111111111,
              "#46039f"
             ],
             [
              0.2222222222222222,
              "#7201a8"
             ],
             [
              0.3333333333333333,
              "#9c179e"
             ],
             [
              0.4444444444444444,
              "#bd3786"
             ],
             [
              0.5555555555555556,
              "#d8576b"
             ],
             [
              0.6666666666666666,
              "#ed7953"
             ],
             [
              0.7777777777777778,
              "#fb9f3a"
             ],
             [
              0.8888888888888888,
              "#fdca26"
             ],
             [
              1,
              "#f0f921"
             ]
            ],
            "type": "histogram2d"
           }
          ],
          "histogram2dcontour": [
           {
            "colorbar": {
             "outlinewidth": 0,
             "ticks": ""
            },
            "colorscale": [
             [
              0,
              "#0d0887"
             ],
             [
              0.1111111111111111,
              "#46039f"
             ],
             [
              0.2222222222222222,
              "#7201a8"
             ],
             [
              0.3333333333333333,
              "#9c179e"
             ],
             [
              0.4444444444444444,
              "#bd3786"
             ],
             [
              0.5555555555555556,
              "#d8576b"
             ],
             [
              0.6666666666666666,
              "#ed7953"
             ],
             [
              0.7777777777777778,
              "#fb9f3a"
             ],
             [
              0.8888888888888888,
              "#fdca26"
             ],
             [
              1,
              "#f0f921"
             ]
            ],
            "type": "histogram2dcontour"
           }
          ],
          "mesh3d": [
           {
            "colorbar": {
             "outlinewidth": 0,
             "ticks": ""
            },
            "type": "mesh3d"
           }
          ],
          "parcoords": [
           {
            "line": {
             "colorbar": {
              "outlinewidth": 0,
              "ticks": ""
             }
            },
            "type": "parcoords"
           }
          ],
          "pie": [
           {
            "automargin": true,
            "type": "pie"
           }
          ],
          "scatter": [
           {
            "fillpattern": {
             "fillmode": "overlay",
             "size": 10,
             "solidity": 0.2
            },
            "type": "scatter"
           }
          ],
          "scatter3d": [
           {
            "line": {
             "colorbar": {
              "outlinewidth": 0,
              "ticks": ""
             }
            },
            "marker": {
             "colorbar": {
              "outlinewidth": 0,
              "ticks": ""
             }
            },
            "type": "scatter3d"
           }
          ],
          "scattercarpet": [
           {
            "marker": {
             "colorbar": {
              "outlinewidth": 0,
              "ticks": ""
             }
            },
            "type": "scattercarpet"
           }
          ],
          "scattergeo": [
           {
            "marker": {
             "colorbar": {
              "outlinewidth": 0,
              "ticks": ""
             }
            },
            "type": "scattergeo"
           }
          ],
          "scattergl": [
           {
            "marker": {
             "colorbar": {
              "outlinewidth": 0,
              "ticks": ""
             }
            },
            "type": "scattergl"
           }
          ],
          "scattermapbox": [
           {
            "marker": {
             "colorbar": {
              "outlinewidth": 0,
              "ticks": ""
             }
            },
            "type": "scattermapbox"
           }
          ],
          "scatterpolar": [
           {
            "marker": {
             "colorbar": {
              "outlinewidth": 0,
              "ticks": ""
             }
            },
            "type": "scatterpolar"
           }
          ],
          "scatterpolargl": [
           {
            "marker": {
             "colorbar": {
              "outlinewidth": 0,
              "ticks": ""
             }
            },
            "type": "scatterpolargl"
           }
          ],
          "scatterternary": [
           {
            "marker": {
             "colorbar": {
              "outlinewidth": 0,
              "ticks": ""
             }
            },
            "type": "scatterternary"
           }
          ],
          "surface": [
           {
            "colorbar": {
             "outlinewidth": 0,
             "ticks": ""
            },
            "colorscale": [
             [
              0,
              "#0d0887"
             ],
             [
              0.1111111111111111,
              "#46039f"
             ],
             [
              0.2222222222222222,
              "#7201a8"
             ],
             [
              0.3333333333333333,
              "#9c179e"
             ],
             [
              0.4444444444444444,
              "#bd3786"
             ],
             [
              0.5555555555555556,
              "#d8576b"
             ],
             [
              0.6666666666666666,
              "#ed7953"
             ],
             [
              0.7777777777777778,
              "#fb9f3a"
             ],
             [
              0.8888888888888888,
              "#fdca26"
             ],
             [
              1,
              "#f0f921"
             ]
            ],
            "type": "surface"
           }
          ],
          "table": [
           {
            "cells": {
             "fill": {
              "color": "#EBF0F8"
             },
             "line": {
              "color": "white"
             }
            },
            "header": {
             "fill": {
              "color": "#C8D4E3"
             },
             "line": {
              "color": "white"
             }
            },
            "type": "table"
           }
          ]
         },
         "layout": {
          "annotationdefaults": {
           "arrowcolor": "#2a3f5f",
           "arrowhead": 0,
           "arrowwidth": 1
          },
          "autotypenumbers": "strict",
          "coloraxis": {
           "colorbar": {
            "outlinewidth": 0,
            "ticks": ""
           }
          },
          "colorscale": {
           "diverging": [
            [
             0,
             "#8e0152"
            ],
            [
             0.1,
             "#c51b7d"
            ],
            [
             0.2,
             "#de77ae"
            ],
            [
             0.3,
             "#f1b6da"
            ],
            [
             0.4,
             "#fde0ef"
            ],
            [
             0.5,
             "#f7f7f7"
            ],
            [
             0.6,
             "#e6f5d0"
            ],
            [
             0.7,
             "#b8e186"
            ],
            [
             0.8,
             "#7fbc41"
            ],
            [
             0.9,
             "#4d9221"
            ],
            [
             1,
             "#276419"
            ]
           ],
           "sequential": [
            [
             0,
             "#0d0887"
            ],
            [
             0.1111111111111111,
             "#46039f"
            ],
            [
             0.2222222222222222,
             "#7201a8"
            ],
            [
             0.3333333333333333,
             "#9c179e"
            ],
            [
             0.4444444444444444,
             "#bd3786"
            ],
            [
             0.5555555555555556,
             "#d8576b"
            ],
            [
             0.6666666666666666,
             "#ed7953"
            ],
            [
             0.7777777777777778,
             "#fb9f3a"
            ],
            [
             0.8888888888888888,
             "#fdca26"
            ],
            [
             1,
             "#f0f921"
            ]
           ],
           "sequentialminus": [
            [
             0,
             "#0d0887"
            ],
            [
             0.1111111111111111,
             "#46039f"
            ],
            [
             0.2222222222222222,
             "#7201a8"
            ],
            [
             0.3333333333333333,
             "#9c179e"
            ],
            [
             0.4444444444444444,
             "#bd3786"
            ],
            [
             0.5555555555555556,
             "#d8576b"
            ],
            [
             0.6666666666666666,
             "#ed7953"
            ],
            [
             0.7777777777777778,
             "#fb9f3a"
            ],
            [
             0.8888888888888888,
             "#fdca26"
            ],
            [
             1,
             "#f0f921"
            ]
           ]
          },
          "colorway": [
           "#636efa",
           "#EF553B",
           "#00cc96",
           "#ab63fa",
           "#FFA15A",
           "#19d3f3",
           "#FF6692",
           "#B6E880",
           "#FF97FF",
           "#FECB52"
          ],
          "font": {
           "color": "#2a3f5f"
          },
          "geo": {
           "bgcolor": "white",
           "lakecolor": "white",
           "landcolor": "#E5ECF6",
           "showlakes": true,
           "showland": true,
           "subunitcolor": "white"
          },
          "hoverlabel": {
           "align": "left"
          },
          "hovermode": "closest",
          "mapbox": {
           "style": "light"
          },
          "paper_bgcolor": "white",
          "plot_bgcolor": "#E5ECF6",
          "polar": {
           "angularaxis": {
            "gridcolor": "white",
            "linecolor": "white",
            "ticks": ""
           },
           "bgcolor": "#E5ECF6",
           "radialaxis": {
            "gridcolor": "white",
            "linecolor": "white",
            "ticks": ""
           }
          },
          "scene": {
           "xaxis": {
            "backgroundcolor": "#E5ECF6",
            "gridcolor": "white",
            "gridwidth": 2,
            "linecolor": "white",
            "showbackground": true,
            "ticks": "",
            "zerolinecolor": "white"
           },
           "yaxis": {
            "backgroundcolor": "#E5ECF6",
            "gridcolor": "white",
            "gridwidth": 2,
            "linecolor": "white",
            "showbackground": true,
            "ticks": "",
            "zerolinecolor": "white"
           },
           "zaxis": {
            "backgroundcolor": "#E5ECF6",
            "gridcolor": "white",
            "gridwidth": 2,
            "linecolor": "white",
            "showbackground": true,
            "ticks": "",
            "zerolinecolor": "white"
           }
          },
          "shapedefaults": {
           "line": {
            "color": "#2a3f5f"
           }
          },
          "ternary": {
           "aaxis": {
            "gridcolor": "white",
            "linecolor": "white",
            "ticks": ""
           },
           "baxis": {
            "gridcolor": "white",
            "linecolor": "white",
            "ticks": ""
           },
           "bgcolor": "#E5ECF6",
           "caxis": {
            "gridcolor": "white",
            "linecolor": "white",
            "ticks": ""
           }
          },
          "title": {
           "x": 0.05
          },
          "xaxis": {
           "automargin": true,
           "gridcolor": "white",
           "linecolor": "white",
           "ticks": "",
           "title": {
            "standoff": 15
           },
           "zerolinecolor": "white",
           "zerolinewidth": 2
          },
          "yaxis": {
           "automargin": true,
           "gridcolor": "white",
           "linecolor": "white",
           "ticks": "",
           "title": {
            "standoff": 15
           },
           "zerolinecolor": "white",
           "zerolinewidth": 2
          }
         }
        },
        "xaxis": {
         "anchor": "y",
         "domain": [
          0,
          1
         ],
         "title": {
          "text": "Name of University"
         }
        },
        "yaxis": {
         "anchor": "x",
         "domain": [
          0,
          1
         ],
         "title": {
          "text": "No of student"
         }
        }
       }
      }
     },
     "metadata": {},
     "output_type": "display_data"
    }
   ],
   "source": [
    "df = pd.read_csv(\"./World University Rankings 2023.csv\")\n",
    "top_5_universities = df.head()\n",
    "fig = px.bar(top_5_universities, x=\"Name of University\", y=\"No of student\", color=\"Location\", barmode=\"relative\")\n",
    "fig.show()"
   ]
  },
  {
   "cell_type": "code",
   "execution_count": 7,
   "metadata": {},
   "outputs": [
    {
     "data": {
      "image/png": "[encoded data removed]",
      "text/plain": [
       "<Figure size 1400x600 with 1 Axes>"
      ]
     },
     "metadata": {},
     "output_type": "display_data"
    }
   ],
   "source": [
    "plt.figure(figsize=(14, 6))\n",
    "sns.barplot(data=top_5_universities, x=\"Name of University\", y=\"No of student\", hue=\"Location\")\n",
    "plt.xticks(fontsize=14)\n",
    "plt.yticks(fontsize=14)\n",
    "plt.show()"
   ]
  },
  {
   "cell_type": "code",
   "execution_count": 8,
   "metadata": {},
   "outputs": [
    {
     "data": {
      "application/vnd.plotly.v1+json": {
       "config": {
        "plotlyServerURL": "https://plot.ly"
       },
       "data": [
        {
         "alignmentgroup": "True",
         "bingroup": "x",
         "hovertemplate": "Location=United Kingdom<br>No of student per staff=%{x}<br>count=%{y}<extra></extra>",
         "legendgroup": "United Kingdom",
         "marker": {
          "color": "#636efa",
          "pattern": {
           "shape": ""
          }
         },
         "name": "United Kingdom",
         "offsetgroup": "United Kingdom",
         "orientation": "v",
         "showlegend": true,
         "type": "histogram",
         "x": [
          10.6,
          11.3,
          11.2,
          10.3,
          11.8
         ],
         "xaxis": "x",
         "yaxis": "y"
        },
        {
         "alignmentgroup": "True",
         "bingroup": "x",
         "hovertemplate": "Location=United States<br>No of student per staff=%{x}<br>count=%{y}<extra></extra>",
         "legendgroup": "United States",
         "marker": {
          "color": "#EF553B",
          "pattern": {
           "shape": ""
          }
         },
         "name": "United States",
         "offsetgroup": "United States",
         "orientation": "v",
         "showlegend": true,
         "type": "histogram",
         "x": [
          9.6,
          7.1,
          8.2,
          6.2,
          8,
          18.4,
          5.9,
          4.5,
          6,
          6.3,
          4.7,
          10.3,
          9.7,
          8.2,
          9.8,
          4.2,
          13.2,
          10.8,
          12.9
         ],
         "xaxis": "x",
         "yaxis": "y"
        },
        {
         "alignmentgroup": "True",
         "bingroup": "x",
         "hovertemplate": "Location=Switzerland<br>No of student per staff=%{x}<br>count=%{y}<extra></extra>",
         "legendgroup": "Switzerland",
         "marker": {
          "color": "#00cc96",
          "pattern": {
           "shape": ""
          }
         },
         "name": "Switzerland",
         "offsetgroup": "Switzerland",
         "orientation": "v",
         "showlegend": true,
         "type": "histogram",
         "x": [
          14.8
         ],
         "xaxis": "x",
         "yaxis": "y"
        },
        {
         "alignmentgroup": "True",
         "bingroup": "x",
         "hovertemplate": "Location=Canada<br>No of student per staff=%{x}<br>count=%{y}<extra></extra>",
         "legendgroup": "Canada",
         "marker": {
          "color": "#FFA15A",
          "pattern": {
           "shape": ""
          }
         },
         "name": "Canada",
         "offsetgroup": "Canada",
         "orientation": "v",
         "showlegend": true,
         "type": "histogram",
         "x": [
          25.8
         ],
         "xaxis": "x",
         "yaxis": "y"
        }
       ],
       "layout": {
        "barmode": "relative",
        "legend": {
         "title": {
          "text": "Location"
         },
         "tracegroupgap": 0
        },
        "margin": {
         "t": 60
        },
        "template": {
         "data": {
          "bar": [
           {
            "error_x": {
             "color": "#2a3f5f"
            },
            "error_y": {
             "color": "#2a3f5f"
            },
            "marker": {
             "line": {
              "color": "#E5ECF6",
              "width": 0.5
             },
             "pattern": {
              "fillmode": "overlay",
              "size": 10,
              "solidity": 0.2
             }
            },
            "type": "bar"
           }
          ],
          "barpolar": [
           {
            "marker": {
             "line": {
              "color": "#E5ECF6",
              "width": 0.5
             },
             "pattern": {
              "fillmode": "overlay",
              "size": 10,
              "solidity": 0.2
             }
            },
            "type": "barpolar"
           }
          ],
          "carpet": [
           {
            "aaxis": {
             "endlinecolor": "#2a3f5f",
             "gridcolor": "white",
             "linecolor": "white",
             "minorgridcolor": "white",
             "startlinecolor": "#2a3f5f"
            },
            "baxis": {
             "endlinecolor": "#2a3f5f",
             "gridcolor": "white",
             "linecolor": "white",
             "minorgridcolor": "white",
             "startlinecolor": "#2a3f5f"
            },
            "type": "carpet"
           }
          ],
          "choropleth": [
           {
            "colorbar": {
             "outlinewidth": 0,
             "ticks": ""
            },
            "type": "choropleth"
           }
          ],
          "contour": [
           {
            "colorbar": {
             "outlinewidth": 0,
             "ticks": ""
            },
            "colorscale": [
             [
              0,
              "#0d0887"
             ],
             [
              0.1111111111111111,
              "#46039f"
             ],
             [
              0.2222222222222222,
              "#7201a8"
             ],
             [
              0.3333333333333333,
              "#9c179e"
             ],
             [
              0.4444444444444444,
              "#bd3786"
             ],
             [
              0.5555555555555556,
              "#d8576b"
             ],
             [
              0.6666666666666666,
              "#ed7953"
             ],
             [
              0.7777777777777778,
              "#fb9f3a"
             ],
             [
              0.8888888888888888,
              "#fdca26"
             ],
             [
              1,
              "#f0f921"
             ]
            ],
            "type": "contour"
           }
          ],
          "contourcarpet": [
           {
            "colorbar": {
             "outlinewidth": 0,
             "ticks": ""
            },
            "type": "contourcarpet"
           }
          ],
          "heatmap": [
           {
            "colorbar": {
             "outlinewidth": 0,
             "ticks": ""
            },
            "colorscale": [
             [
              0,
              "#0d0887"
             ],
             [
              0.1111111111111111,
              "#46039f"
             ],
             [
              0.2222222222222222,
              "#7201a8"
             ],
             [
              0.3333333333333333,
              "#9c179e"
             ],
             [
              0.4444444444444444,
              "#bd3786"
             ],
             [
              0.5555555555555556,
              "#d8576b"
             ],
             [
              0.6666666666666666,
              "#ed7953"
             ],
             [
              0.7777777777777778,
              "#fb9f3a"
             ],
             [
              0.8888888888888888,
              "#fdca26"
             ],
             [
              1,
              "#f0f921"
             ]
            ],
            "type": "heatmap"
           }
          ],
          "heatmapgl": [
           {
            "colorbar": {
             "outlinewidth": 0,
             "ticks": ""
            },
            "colorscale": [
             [
              0,
              "#0d0887"
             ],
             [
              0.1111111111111111,
              "#46039f"
             ],
             [
              0.2222222222222222,
              "#7201a8"
             ],
             [
              0.3333333333333333,
              "#9c179e"
             ],
             [
              0.4444444444444444,
              "#bd3786"
             ],
             [
              0.5555555555555556,
              "#d8576b"
             ],
             [
              0.6666666666666666,
              "#ed7953"
             ],
             [
              0.7777777777777778,
              "#fb9f3a"
             ],
             [
              0.8888888888888888,
              "#fdca26"
             ],
             [
              1,
              "#f0f921"
             ]
            ],
            "type": "heatmapgl"
           }
          ],
          "histogram": [
           {
            "marker": {
             "pattern": {
              "fillmode": "overlay",
              "size": 10,
              "solidity": 0.2
             }
            },
            "type": "histogram"
           }
          ],
          "histogram2d": [
           {
            "colorbar": {
             "outlinewidth": 0,
             "ticks": ""
            },
            "colorscale": [
             [
              0,
              "#0d0887"
             ],
             [
              0.1111111111111111,
              "#46039f"
             ],
             [
              0.2222222222222222,
              "#7201a8"
             ],
             [
              0.3333333333333333,
              "#9c179e"
             ],
             [
              0.4444444444444444,
              "#bd3786"
             ],
             [
              0.5555555555555556,
              "#d8576b"
             ],
             [
              0.6666666666666666,
              "#ed7953"
             ],
             [
              0.7777777777777778,
              "#fb9f3a"
             ],
             [
              0.8888888888888888,
              "#fdca26"
             ],
             [
              1,
              "#f0f921"
             ]
            ],
            "type": "histogram2d"
           }
          ],
          "histogram2dcontour": [
           {
            "colorbar": {
             "outlinewidth": 0,
             "ticks": ""
            },
            "colorscale": [
             [
              0,
              "#0d0887"
             ],
             [
              0.1111111111111111,
              "#46039f"
             ],
             [
              0.2222222222222222,
              "#7201a8"
             ],
             [
              0.3333333333333333,
              "#9c179e"
             ],
             [
              0.4444444444444444,
              "#bd3786"
             ],
             [
              0.5555555555555556,
              "#d8576b"
             ],
             [
              0.6666666666666666,
              "#ed7953"
             ],
             [
              0.7777777777777778,
              "#fb9f3a"
             ],
             [
              0.8888888888888888,
              "#fdca26"
             ],
             [
              1,
              "#f0f921"
             ]
            ],
            "type": "histogram2dcontour"
           }
          ],
          "mesh3d": [
           {
            "colorbar": {
             "outlinewidth": 0,
             "ticks": ""
            },
            "type": "mesh3d"
           }
          ],
          "parcoords": [
           {
            "line": {
             "colorbar": {
              "outlinewidth": 0,
              "ticks": ""
             }
            },
            "type": "parcoords"
           }
          ],
          "pie": [
           {
            "automargin": true,
            "type": "pie"
           }
          ],
          "scatter": [
           {
            "fillpattern": {
             "fillmode": "overlay",
             "size": 10,
             "solidity": 0.2
            },
            "type": "scatter"
           }
          ],
          "scatter3d": [
           {
            "line": {
             "colorbar": {
              "outlinewidth": 0,
              "ticks": ""
             }
            },
            "marker": {
             "colorbar": {
              "outlinewidth": 0,
              "ticks": ""
             }
            },
            "type": "scatter3d"
           }
          ],
          "scattercarpet": [
           {
            "marker": {
             "colorbar": {
              "outlinewidth": 0,
              "ticks": ""
             }
            },
            "type": "scattercarpet"
           }
          ],
          "scattergeo": [
           {
            "marker": {
             "colorbar": {
              "outlinewidth": 0,
              "ticks": ""
             }
            },
            "type": "scattergeo"
           }
          ],
          "scattergl": [
           {
            "marker": {
             "colorbar": {
              "outlinewidth": 0,
              "ticks": ""
             }
            },
            "type": "scattergl"
           }
          ],
          "scattermapbox": [
           {
            "marker": {
             "colorbar": {
              "outlinewidth": 0,
              "ticks": ""
             }
            },
            "type": "scattermapbox"
           }
          ],
          "scatterpolar": [
           {
            "marker": {
             "colorbar": {
              "outlinewidth": 0,
              "ticks": ""
             }
            },
            "type": "scatterpolar"
           }
          ],
          "scatterpolargl": [
           {
            "marker": {
             "colorbar": {
              "outlinewidth": 0,
              "ticks": ""
             }
            },
            "type": "scatterpolargl"
           }
          ],
          "scatterternary": [
           {
            "marker": {
             "colorbar": {
              "outlinewidth": 0,
              "ticks": ""
             }
            },
            "type": "scatterternary"
           }
          ],
          "surface": [
           {
            "colorbar": {
             "outlinewidth": 0,
             "ticks": ""
            },
            "colorscale": [
             [
              0,
              "#0d0887"
             ],
             [
              0.1111111111111111,
              "#46039f"
             ],
             [
              0.2222222222222222,
              "#7201a8"
             ],
             [
              0.3333333333333333,
              "#9c179e"
             ],
             [
              0.4444444444444444,
              "#bd3786"
             ],
             [
              0.5555555555555556,
              "#d8576b"
             ],
             [
              0.6666666666666666,
              "#ed7953"
             ],
             [
              0.7777777777777778,
              "#fb9f3a"
             ],
             [
              0.8888888888888888,
              "#fdca26"
             ],
             [
              1,
              "#f0f921"
             ]
            ],
            "type": "surface"
           }
          ],
          "table": [
           {
            "cells": {
             "fill": {
              "color": "#EBF0F8"
             },
             "line": {
              "color": "white"
             }
            },
            "header": {
             "fill": {
              "color": "#C8D4E3"
             },
             "line": {
              "color": "white"
             }
            },
            "type": "table"
           }
          ]
         },
         "layout": {
          "annotationdefaults": {
           "arrowcolor": "#2a3f5f",
           "arrowhead": 0,
           "arrowwidth": 1
          },
          "autotypenumbers": "strict",
          "coloraxis": {
           "colorbar": {
            "outlinewidth": 0,
            "ticks": ""
           }
          },
          "colorscale": {
           "diverging": [
            [
             0,
             "#8e0152"
            ],
            [
             0.1,
             "#c51b7d"
            ],
            [
             0.2,
             "#de77ae"
            ],
            [
             0.3,
             "#f1b6da"
            ],
            [
             0.4,
             "#fde0ef"
            ],
            [
             0.5,
             "#f7f7f7"
            ],
            [
             0.6,
             "#e6f5d0"
            ],
            [
             0.7,
             "#b8e186"
            ],
            [
             0.8,
             "#7fbc41"
            ],
            [
             0.9,
             "#4d9221"
            ],
            [
             1,
             "#276419"
            ]
           ],
           "sequential": [
            [
             0,
             "#0d0887"
            ],
            [
             0.1111111111111111,
             "#46039f"
            ],
            [
             0.2222222222222222,
             "#7201a8"
            ],
            [
             0.3333333333333333,
             "#9c179e"
            ],
            [
             0.4444444444444444,
             "#bd3786"
            ],
            [
             0.5555555555555556,
             "#d8576b"
            ],
            [
             0.6666666666666666,
             "#ed7953"
            ],
            [
             0.7777777777777778,
             "#fb9f3a"
            ],
            [
             0.8888888888888888,
             "#fdca26"
            ],
            [
             1,
             "#f0f921"
            ]
           ],
           "sequentialminus": [
            [
             0,
             "#0d0887"
            ],
            [
             0.1111111111111111,
             "#46039f"
            ],
            [
             0.2222222222222222,
             "#7201a8"
            ],
            [
             0.3333333333333333,
             "#9c179e"
            ],
            [
             0.4444444444444444,
             "#bd3786"
            ],
            [
             0.5555555555555556,
             "#d8576b"
            ],
            [
             0.6666666666666666,
             "#ed7953"
            ],
            [
             0.7777777777777778,
             "#fb9f3a"
            ],
            [
             0.8888888888888888,
             "#fdca26"
            ],
            [
             1,
             "#f0f921"
            ]
           ]
          },
          "colorway": [
           "#636efa",
           "#EF553B",
           "#00cc96",
           "#ab63fa",
           "#FFA15A",
           "#19d3f3",
           "#FF6692",
           "#B6E880",
           "#FF97FF",
           "#FECB52"
          ],
          "font": {
           "color": "#2a3f5f"
          },
          "geo": {
           "bgcolor": "white",
           "lakecolor": "white",
           "landcolor": "#E5ECF6",
           "showlakes": true,
           "showland": true,
           "subunitcolor": "white"
          },
          "hoverlabel": {
           "align": "left"
          },
          "hovermode": "closest",
          "mapbox": {
           "style": "light"
          },
          "paper_bgcolor": "white",
          "plot_bgcolor": "#E5ECF6",
          "polar": {
           "angularaxis": {
            "gridcolor": "white",
            "linecolor": "white",
            "ticks": ""
           },
           "bgcolor": "#E5ECF6",
           "radialaxis": {
            "gridcolor": "white",
            "linecolor": "white",
            "ticks": ""
           }
          },
          "scene": {
           "xaxis": {
            "backgroundcolor": "#E5ECF6",
            "gridcolor": "white",
            "gridwidth": 2,
            "linecolor": "white",
            "showbackground": true,
            "ticks": "",
            "zerolinecolor": "white"
           },
           "yaxis": {
            "backgroundcolor": "#E5ECF6",
            "gridcolor": "white",
            "gridwidth": 2,
            "linecolor": "white",
            "showbackground": true,
            "ticks": "",
            "zerolinecolor": "white"
           },
           "zaxis": {
            "backgroundcolor": "#E5ECF6",
            "gridcolor": "white",
            "gridwidth": 2,
            "linecolor": "white",
            "showbackground": true,
            "ticks": "",
            "zerolinecolor": "white"
           }
          },
          "shapedefaults": {
           "line": {
            "color": "#2a3f5f"
           }
          },
          "ternary": {
           "aaxis": {
            "gridcolor": "white",
            "linecolor": "white",
            "ticks": ""
           },
           "baxis": {
            "gridcolor": "white",
            "linecolor": "white",
            "ticks": ""
           },
           "bgcolor": "#E5ECF6",
           "caxis": {
            "gridcolor": "white",
            "linecolor": "white",
            "ticks": ""
           }
          },
          "title": {
           "x": 0.05
          },
          "xaxis": {
           "automargin": true,
           "gridcolor": "white",
           "linecolor": "white",
           "ticks": "",
           "title": {
            "standoff": 15
           },
           "zerolinecolor": "white",
           "zerolinewidth": 2
          },
          "yaxis": {
           "automargin": true,
           "gridcolor": "white",
           "linecolor": "white",
           "ticks": "",
           "title": {
            "standoff": 15
           },
           "zerolinecolor": "white",
           "zerolinewidth": 2
          }
         }
        },
        "xaxis": {
         "anchor": "y",
         "domain": [
          0,
          1
         ],
         "title": {
          "text": "No of student per staff"
         }
        },
        "yaxis": {
         "anchor": "x",
         "domain": [
          0,
          1
         ],
         "title": {
          "text": "count"
         }
        }
       }
      }
     },
     "metadata": {},
     "output_type": "display_data"
    }
   ],
   "source": [
    "top_30_universities = df.head(30)\n",
    "px.histogram(top_30_universities, x=\"No of student per staff\", color=\"Location\")"
   ]
  },
  {
   "cell_type": "code",
   "execution_count": 9,
   "metadata": {},
   "outputs": [
    {
     "data": {
      "image/png": "[encoded data removed]",
      "text/plain": [
       "<Figure size 1400x600 with 1 Axes>"
      ]
     },
     "metadata": {},
     "output_type": "display_data"
    }
   ],
   "source": [
    "plt.figure(figsize=(14, 6))\n",
    "sns.histplot(data=top_30_universities, x=\"No of student per staff\", hue=\"Location\")\n",
    "plt.xticks(fontsize=14)\n",
    "plt.yticks(fontsize=14)\n",
    "plt.title(\"Distribution of No of student per staff\", fontsize=16)\n",
    "plt.xlabel(\"No of student per staff\", fontsize=16)\n",
    "plt.ylabel(\"Staff count\", fontsize=16)\n",
    "plt.show()"
   ]
  },
  {
   "cell_type": "code",
   "execution_count": 10,
   "metadata": {},
   "outputs": [
    {
     "data": {
      "application/vnd.plotly.v1+json": {
       "config": {
        "plotlyServerURL": "https://plot.ly"
       },
       "data": [
        {
         "hovertemplate": "University Rank=%{x}<br>Research Score=%{y}<extra></extra>",
         "legendgroup": "",
         "marker": {
          "color": "#636efa",
          "symbol": "circle"
         },
         "mode": "markers",
         "name": "",
         "showlegend": false,
         "type": "scattergl",
         "x": [
          "1",
          "2",
          "3",
          "3",
          "5",
          "6",
          "7",
          "8",
          "9",
          "10",
          "11",
          "11",
          "13",
          "14",
          "15",
          "16",
          "17",
          "18",
          "19",
          "20",
          "21",
          "22",
          "23",
          "24",
          "25",
          "26",
          "26",
          "28",
          "29",
          "30",
          "31",
          "32",
          "33",
          "34",
          "35",
          "36",
          "37",
          "38",
          "39",
          "40",
          "41",
          "42",
          "43",
          "44",
          "45",
          "46",
          "47",
          "48",
          "49",
          "50",
          "51",
          "52",
          "53",
          "54",
          "54",
          "56",
          "57",
          "58",
          "59",
          "60",
          "61",
          "62",
          "63",
          "64",
          "65",
          "66",
          "67",
          "68",
          "69",
          "70",
          "71",
          "71",
          "73",
          "74",
          "75",
          "76",
          "77",
          "78",
          "79",
          "80",
          "81",
          "82",
          "82",
          "82",
          "85",
          "86",
          "86",
          "88",
          "89",
          "90",
          "91",
          "91",
          "93",
          "94",
          "95",
          "95",
          "95",
          "98",
          "99",
          "99",
          "101",
          "101",
          "101",
          "104",
          "104",
          "106",
          "107",
          "108",
          "108",
          "110",
          "111",
          "112",
          "113",
          "114",
          "114",
          "114",
          "117",
          "118",
          "119",
          "119",
          "121",
          "122",
          "123",
          "124",
          "124",
          "126",
          "127",
          "128",
          "128",
          "130",
          "131",
          "131",
          "133",
          "134",
          "135",
          "136",
          "137",
          "137",
          "139",
          "139",
          "139",
          "139",
          "139",
          "144",
          "145",
          "146",
          "147",
          "148",
          "148",
          "148",
          "151",
          "151",
          "151",
          "154",
          "155",
          "156",
          "156",
          "156",
          "156",
          "160",
          "161",
          "161",
          "163",
          "163",
          "166",
          "166",
          "168",
          "168",
          "170",
          "170",
          "170",
          "173",
          "174",
          "175",
          "176",
          "176",
          "176",
          "179",
          "180",
          "181",
          "182",
          "183",
          "183",
          "185",
          "186",
          "187",
          "187",
          "189",
          "189",
          "191",
          "192",
          "192",
          "194",
          "194",
          "196",
          "196",
          "198",
          "198",
          "198",
          "201–250",
          "201–250",
          "201–250",
          "201–250",
          "201–250",
          "201–250",
          "201–250",
          "201–250",
          "201–250",
          "201–250",
          "201–250",
          "201–250",
          "201–250",
          "201–250",
          "201–250",
          "201–250",
          "201–250",
          "201–250",
          "201–250",
          "201–250",
          "201–250",
          "201–250",
          "201–250",
          "201–250",
          "201–250",
          "201–250",
          "201–250",
          "201–250",
          "201–250",
          "201–250",
          "201–250",
          "201–250",
          "201–250",
          "201–250",
          "201–250",
          "201–250",
          "201–250",
          "201–250",
          "201–250",
          "201–250",
          "201–250",
          "201–250",
          "201–250",
          "201–250",
          "201–250",
          "201–250",
          "201–250",
          "201–250",
          "201–250",
          "251–300",
          "251–300",
          "251–300",
          "251–300",
          "251–300",
          "251–300",
          "251–300",
          "251–300",
          "251–300",
          "251–300",
          "251–300",
          "251–300",
          "251–300",
          "251–300",
          "251–300",
          "251–300",
          "251–300",
          "251–300",
          "251–300",
          "251–300",
          "251–300",
          "251–300",
          "251–300",
          "251–300",
          "251–300",
          "251–300",
          "251–300",
          "251–300",
          "251–300",
          "251–300",
          "251–300",
          "251–300",
          "251–300",
          "251–300",
          "251–300",
          "251–300",
          "251–300",
          "251–300",
          "251–300",
          "251–300",
          "251–300",
          "251–300",
          "251–300",
          "251–300",
          "251–300",
          "251–300",
          "251–300",
          "251–300",
          "251–300",
          "251–300",
          "251–300",
          "301–350",
          "301–350",
          "301–350",
          "301–350",
          "301–350",
          "301–350",
          "301–350",
          "301–350",
          "301–350",
          "301–350",
          "301–350",
          "301–350",
          "301–350",
          "301–350",
          "301–350",
          "301–350",
          "301–350",
          "301–350",
          "301–350",
          "301–350",
          "301–350",
          "301–350",
          "301–350",
          "301–350",
          "301–350",
          "301–350",
          "301–350",
          "301–350",
          "301–350",
          "301–350",
          "301–350",
          "301–350",
          "301–350",
          "301–350",
          "301–350",
          "301–350",
          "301–350",
          "301–350",
          "301–350",
          "301–350",
          "301–350",
          "301–350",
          "301–350",
          "301–350",
          "301–350",
          "301–350",
          "301–350",
          "301–350",
          "351–400",
          "351–400",
          "351–400",
          "351–400",
          "351–400",
          "351–400",
          "351–400",
          "351–400",
          "351–400",
          "351–400",
          "351–400",
          "351–400",
          "351–400",
          "351–400",
          "351–400",
          "351–400",
          "351–400",
          "351–400",
          "351–400",
          "351–400",
          "351–400",
          "351–400",
          "351–400",
          "351–400",
          "351–400",
          "351–400",
          "351–400",
          "351–400",
          "351–400",
          "351–400",
          "351–400",
          "351–400",
          "351–400",
          "351–400",
          "351–400",
          "351–400",
          "351–400",
          "351–400",
          "351–400",
          "351–400",
          "351–400",
          "351–400",
          "351–400",
          "351–400",
          "351–400",
          "351–400",
          "351–400",
          "351–400",
          "351–400",
          "351–400",
          "401–500",
          "401–500",
          "401–500",
          "401–500",
          "401–500",
          "401–500",
          "401–500",
          "401–500",
          "401–500",
          "401–500",
          "401–500",
          "401–500",
          "401–500",
          "401–500",
          "401–500",
          "401–500",
          "401–500",
          "401–500",
          "401–500",
          "401–500",
          "401–500",
          "401–500",
          "401–500",
          "401–500",
          "401–500",
          "401–500",
          "401–500",
          "401–500",
          "401–500",
          "401–500",
          "401–500",
          "401–500",
          "401–500",
          "401–500",
          "401–500",
          "401–500",
          "401–500",
          "401–500",
          "401–500",
          "401–500",
          "401–500",
          "401–500",
          "401–500",
          "401–500",
          "401–500",
          "401–500",
          "401–500",
          "401–500",
          "401–500",
          "401–500",
          "401–500",
          "401–500",
          "401–500",
          "401–500",
          "401–500",
          "401–500",
          "401–500",
          "401–500",
          "401–500",
          "401–500",
          "401–500",
          "401–500",
          "401–500",
          "401–500",
          "401–500",
          "401–500",
          "401–500",
          "401–500",
          "401–500",
          "401–500",
          "401–500",
          "401–500",
          "401–500",
          "401–500",
          "401–500",
          "401–500",
          "401–500",
          "401–500",
          "401–500",
          "401–500",
          "401–500",
          "401–500",
          "401–500",
          "401–500",
          "401–500",
          "401–500",
          "401–500",
          "401–500",
          "401–500",
          "401–500",
          "401–500",
          "401–500",
          "401–500",
          "401–500",
          "401–500",
          "401–500",
          "401–500",
          "401–500",
          "401–500",
          "401–500",
          "401–500",
          "501–600",
          "501–600",
          "501–600",
          "501–600",
          "501–600",
          "501–600",
          "501–600",
          "501–600",
          "501–600",
          "501–600",
          "501–600",
          "501–600",
          "501–600",
          "501–600",
          "501–600",
          "501–600",
          "501–600",
          "501–600",
          "501–600",
          "501–600",
          "501–600",
          "501–600",
          "501–600",
          "501–600",
          "501–600",
          "501–600",
          "501–600",
          "501–600",
          "501–600",
          "501–600",
          "501–600",
          "501–600",
          "501–600",
          "501–600",
          "501–600",
          "501–600",
          "501–600",
          "501–600",
          "501–600",
          "501–600",
          "501–600",
          "501–600",
          "501–600",
          "501–600",
          "501–600",
          "501–600",
          "501–600",
          "501–600",
          "501–600",
          "501–600",
          "501–600",
          "501–600",
          "501–600",
          "501–600",
          "501–600",
          "501–600",
          "501–600",
          "501–600",
          "501–600",
          "501–600",
          "501–600",
          "501–600",
          "501–600",
          "501–600",
          "501–600",
          "501–600",
          "501–600",
          "501–600",
          "501–600",
          "501–600",
          "501–600",
          "501–600",
          "501–600",
          "501–600",
          "501–600",
          "501–600",
          "501–600",
          "501–600",
          "501–600",
          "501–600",
          "501–600",
          "501–600",
          "501–600",
          "501–600",
          "501–600",
          "501–600",
          "501–600",
          "501–600",
          "501–600",
          "501–600",
          "501–600",
          "501–600",
          "501–600",
          "501–600",
          "501–600",
          "501–600",
          "601–800",
          "601–800",
          "601–800",
          "601–800",
          "601–800",
          "601–800",
          "601–800",
          "601–800",
          "601–800",
          "601–800",
          "601–800",
          "601–800",
          "601–800",
          "601–800",
          "601–800",
          "601–800",
          "601–800",
          "601–800",
          "601–800",
          "601–800",
          "601–800",
          "601–800",
          "601–800",
          "601–800",
          "601–800",
          "601–800",
          "601–800",
          "601–800",
          "601–800",
          "601–800",
          "601–800",
          "601–800",
          "601–800",
          "601–800",
          "601–800",
          "601–800",
          "601–800",
          "601–800",
          "601–800",
          "601–800",
          "601–800",
          "601–800",
          "601–800",
          "601–800",
          "601–800",
          "601–800",
          "601–800",
          "601–800",
          "601–800",
          "601–800",
          "601–800",
          "601–800",
          "601–800",
          "601–800",
          "601–800",
          "601–800",
          "601–800",
          "601–800",
          "601–800",
          "601–800",
          "601–800",
          "601–800",
          "601–800",
          "601–800",
          "601–800",
          "601–800",
          "601–800",
          "601–800",
          "601–800",
          "601–800",
          "601–800",
          "601–800",
          "601–800",
          "601–800",
          "601–800",
          "601–800",
          "601–800",
          "601–800",
          "601–800",
          "601–800",
          "601–800",
          "601–800",
          "601–800",
          "601–800",
          "601–800",
          "601–800",
          "601–800",
          "601–800",
          "601–800",
          "601–800",
          "601–800",
          "601–800",
          "601–800",
          "601–800",
          "601–800",
          "601–800",
          "601–800",
          "601–800",
          "601–800",
          "601–800",
          "601–800",
          "601–800",
          "601–800",
          "601–800",
          "601–800",
          "601–800",
          "601–800",
          "601–800",
          "601–800",
          "601–800",
          "601–800",
          "601–800",
          "601–800",
          "601–800",
          "601–800",
          "601–800",
          "601–800",
          "601–800",
          "601–800",
          "601–800",
          "601–800",
          "601–800",
          "601–800",
          "601–800",
          "601–800",
          "601–800",
          "601–800",
          "601–800",
          "601–800",
          "601–800",
          "601–800",
          "601–800",
          "601–800",
          "601–800",
          "601–800",
          "601–800",
          "601–800",
          "601–800",
          "601–800",
          "601–800",
          "601–800",
          "601–800",
          "601–800",
          "601–800",
          "601–800",
          "601–800",
          "601–800",
          "601–800",
          "601–800",
          "601–800",
          "601–800",
          "601–800",
          "601–800",
          "601–800",
          "601–800",
          "601–800",
          "601–800",
          "601–800",
          "601–800",
          "601–800",
          "601–800",
          "601–800",
          "601–800",
          "601–800",
          "601–800",
          "601–800",
          "601–800",
          "601–800",
          "601–800",
          "601–800",
          "601–800",
          "601–800",
          "801–1000",
          "801–1000",
          "801–1000",
          "801–1000",
          "801–1000",
          "801–1000",
          "801–1000",
          "801–1000",
          "801–1000",
          "801–1000",
          "801–1000",
          "801–1000",
          "801–1000",
          "801–1000",
          "801–1000",
          "801–1000",
          "801–1000",
          "801–1000",
          "801–1000",
          "801–1000",
          "801–1000",
          "801–1000",
          "801–1000",
          "801–1000",
          "801–1000",
          "801–1000",
          "801–1000",
          "801–1000",
          "801–1000",
          "801–1000",
          "801–1000",
          "801–1000",
          "801–1000",
          "801–1000",
          "801–1000",
          "801–1000",
          "801–1000",
          "801–1000",
          "801–1000",
          "801–1000",
          "801–1000",
          "801–1000",
          "801–1000",
          "801–1000",
          "801–1000",
          "801–1000",
          "801–1000",
          "801–1000",
          "801–1000",
          "801–1000",
          "801–1000",
          "801–1000",
          "801–1000",
          "801–1000",
          "801–1000",
          "801–1000",
          "801–1000",
          "801–1000",
          "801–1000",
          "801–1000",
          "801–1000",
          "801–1000",
          "801–1000",
          "801–1000",
          "801–1000",
          "801–1000",
          "801–1000",
          "801–1000",
          "801–1000",
          "801–1000",
          "801–1000",
          "801–1000",
          "801–1000",
          "801–1000",
          "801–1000",
          "801–1000",
          "801–1000",
          "801–1000",
          "801–1000",
          "801–1000",
          "801–1000",
          "801–1000",
          "801–1000",
          "801–1000",
          "801–1000",
          "801–1000",
          "801–1000",
          "801–1000",
          "801–1000",
          "801–1000",
          "801–1000",
          "801–1000",
          "801–1000",
          "801–1000",
          "801–1000",
          "801–1000",
          "801–1000",
          "801–1000",
          "801–1000",
          "801–1000",
          "801–1000",
          "801–1000",
          "801–1000",
          "801–1000",
          "801–1000",
          "801–1000",
          "801–1000",
          "801–1000",
          "801–1000",
          "801–1000",
          "801–1000",
          "801–1000",
          "801–1000",
          "801–1000",
          "801–1000",
          "801–1000",
          "801–1000",
          "801–1000",
          "801–1000",
          "801–1000",
          "801–1000",
          "801–1000",
          "801–1000",
          "801–1000",
          "801–1000",
          "801–1000",
          "801–1000",
          "801–1000",
          "801–1000",
          "801–1000",
          "801–1000",
          "801–1000",
          "801–1000",
          "801–1000",
          "801–1000",
          "801–1000",
          "801–1000",
          "801–1000",
          "801–1000",
          "801–1000",
          "801–1000",
          "801–1000",
          "801–1000",
          "801–1000",
          "801–1000",
          "801–1000",
          "801–1000",
          "801–1000",
          "801–1000",
          "801–1000",
          "801–1000",
          "801–1000",
          "801–1000",
          "801–1000",
          "801–1000",
          "801–1000",
          "801–1000",
          "801–1000",
          "801–1000",
          "801–1000",
          "801–1000",
          "801–1000",
          "801–1000",
          "801–1000",
          "801–1000",
          "801–1000",
          "801–1000",
          "801–1000",
          "801–1000",
          "801–1000",
          "801–1000",
          "801–1000",
          "801–1000",
          "801–1000",
          "801–1000",
          "801–1000",
          "801–1000",
          "801–1000",
          "801–1000",
          "801–1000",
          "801–1000",
          "801–1000",
          "801–1000",
          "801–1000",
          "801–1000",
          "801–1000",
          "801–1000",
          "801–1000",
          "801–1000",
          "801–1000",
          "801–1000",
          "801–1000",
          "801–1000",
          "1001–1200",
          "1001–1200",
          "1001–1200",
          "1001–1200",
          "1001–1200",
          "1001–1200",
          "1001–1200",
          "1001–1200",
          "1001–1200",
          "1001–1200",
          "1001–1200",
          "1001–1200",
          "1001–1200",
          "1001–1200",
          "1001–1200",
          "1001–1200",
          "1001–1200",
          "1001–1200",
          "1001–1200",
          "1001–1200",
          "1001–1200",
          "1001–1200",
          "1001–1200",
          "1001–1200",
          "1001–1200",
          "1001–1200",
          "1001–1200",
          "1001–1200",
          "1001–1200",
          "1001–1200",
          "1001–1200",
          "1001–1200",
          "1001–1200",
          "1001–1200",
          "1001–1200",
          "1001–1200",
          "1001–1200",
          "1001–1200",
          "1001–1200",
          "1001–1200",
          "1001–1200",
          "1001–1200",
          "1001–1200",
          "1001–1200",
          "1001–1200",
          "1001–1200",
          "1001–1200",
          "1001–1200",
          "1001–1200",
          "1001–1200",
          "1001–1200",
          "1001–1200",
          "1001–1200",
          "1001–1200",
          "1001–1200",
          "1001–1200",
          "1001–1200",
          "1001–1200",
          "1001–1200",
          "1001–1200",
          "1001–1200",
          "1001–1200",
          "1001–1200",
          "1001–1200",
          "1001–1200",
          "1001–1200",
          "1001–1200",
          "1001–1200",
          "1001–1200",
          "1001–1200",
          "1001–1200",
          "1001–1200",
          "1001–1200",
          "1001–1200",
          "1001–1200",
          "1001–1200",
          "1001–1200",
          "1001–1200",
          "1001–1200",
          "1001–1200",
          "1001–1200",
          "1001–1200",
          "1001–1200",
          "1001–1200",
          "1001–1200",
          "1001–1200",
          "1001–1200",
          "1001–1200",
          "1001–1200",
          "1001–1200",
          "1001–1200",
          "1001–1200",
          "1001–1200",
          "1001–1200",
          "1001–1200",
          "1001–1200",
          "1001–1200",
          "1001–1200",
          "1001–1200",
          "1001–1200",
          "1001–1200",
          "1001–1200",
          "1001–1200",
          "1001–1200",
          "1001–1200",
          "1001–1200",
          "1001–1200",
          "1001–1200",
          "1001–1200",
          "1001–1200",
          "1001–1200",
          "1001–1200",
          "1001–1200",
          "1001–1200",
          "1001–1200",
          "1001–1200",
          "1001–1200",
          "1001–1200",
          "1001–1200",
          "1001–1200",
          "1001–1200",
          "1001–1200",
          "1001–1200",
          "1001–1200",
          "1001–1200",
          "1001–1200",
          "1001–1200",
          "1001–1200",
          "1001–1200",
          "1001–1200",
          "1001–1200",
          "1001–1200",
          "1001–1200",
          "1001–1200",
          "1001–1200",
          "1001–1200",
          "1001–1200",
          "1001–1200",
          "1001–1200",
          "1001–1200",
          "1001–1200",
          "1001–1200",
          "1001–1200",
          "1001–1200",
          "1001–1200",
          "1001–1200",
          "1001–1200",
          "1001–1200",
          "1001–1200",
          "1001–1200",
          "1001–1200",
          "1001–1200",
          "1001–1200",
          "1001–1200",
          "1001–1200",
          "1001–1200",
          "1001–1200",
          "1001–1200",
          "1001–1200",
          "1001–1200",
          "1001–1200",
          "1001–1200",
          "1001–1200",
          "1001–1200",
          "1001–1200",
          "1001–1200",
          "1001–1200",
          "1001–1200",
          "1001–1200",
          "1001–1200",
          "1001–1200",
          "1001–1200",
          "1001–1200",
          "1001–1200",
          "1001–1200",
          "1001–1200",
          "1001–1200",
          "1001–1200",
          "1001–1200",
          "1001–1200",
          "1001–1200",
          "1001–1200",
          "1001–1200",
          "1001–1200",
          "1001–1200",
          "1001–1200",
          "1001–1200",
          "1001–1200",
          "1001–1200",
          "1001–1200",
          "1001–1200",
          "1001–1200",
          "1001–1200",
          "1001–1200",
          "1001–1200",
          "1001–1200",
          "1001–1200",
          "1001–1200",
          "1001–1200",
          "1001–1200",
          "1201–1500",
          "1201–1500",
          "1201–1500",
          "1201–1500",
          "1201–1500",
          "1201–1500",
          "1201–1500",
          "1201–1500",
          "1201–1500",
          "1201–1500",
          "1201–1500",
          "1201–1500",
          "1201–1500",
          "1201–1500",
          "1201–1500",
          "1201–1500",
          "1201–1500",
          "1201–1500",
          "1201–1500",
          "1201–1500",
          "1201–1500",
          "1201–1500",
          "1201–1500",
          "1201–1500",
          "1201–1500",
          "1201–1500",
          "1201–1500",
          "1201–1500",
          "1201–1500",
          "1201–1500",
          "1201–1500",
          "1201–1500",
          "1201–1500",
          "1201–1500",
          "1201–1500",
          "1201–1500",
          "1201–1500",
          "1201–1500",
          "1201–1500",
          "1201–1500",
          "1201–1500",
          "1201–1500",
          "1201–1500",
          "1201–1500",
          "1201–1500",
          "1201–1500",
          "1201–1500",
          "1201–1500",
          "1201–1500",
          "1201–1500",
          "1201–1500",
          "1201–1500",
          "1201–1500",
          "1201–1500",
          "1201–1500",
          "1201–1500",
          "1201–1500",
          "1201–1500",
          "1201–1500",
          "1201–1500",
          "1201–1500",
          "1201–1500",
          "1201–1500",
          "1201–1500",
          "1201–1500",
          "1201–1500",
          "1201–1500",
          "1201–1500",
          "1201–1500",
          "1201–1500",
          "1201–1500",
          "1201–1500",
          "1201–1500",
          "1201–1500",
          "1201–1500",
          "1201–1500",
          "1201–1500",
          "1201–1500",
          "1201–1500",
          "1201–1500",
          "1201–1500",
          "1201–1500",
          "1201–1500",
          "1201–1500",
          "1201–1500",
          "1201–1500",
          "1201–1500",
          "1201–1500",
          "1201–1500",
          "1201–1500",
          "1201–1500",
          "1201–1500",
          "1201–1500",
          "1201–1500",
          "1201–1500",
          "1201–1500",
          "1201–1500",
          "1201–1500",
          "1201–1500",
          "1201–1500",
          "1201–1500",
          "1201–1500",
          "1201–1500",
          "1201–1500",
          "1201–1500",
          "1201–1500",
          "1201–1500",
          "1201–1500",
          "1201–1500",
          "1201–1500",
          "1201–1500",
          "1201–1500",
          "1201–1500",
          "1201–1500",
          "1201–1500",
          "1201–1500",
          "1201–1500",
          "1201–1500",
          "1201–1500",
          "1201–1500",
          "1201–1500",
          "1201–1500",
          "1201–1500",
          "1201–1500",
          "1201–1500",
          "1201–1500",
          "1201–1500",
          "1201–1500",
          "1201–1500",
          "1201–1500",
          "1201–1500",
          "1201–1500",
          "1201–1500",
          "1201–1500",
          "1201–1500",
          "1201–1500",
          "1201–1500",
          "1201–1500",
          "1201–1500",
          "1201–1500",
          "1201–1500",
          "1201–1500",
          "1201–1500",
          "1201–1500",
          "1201–1500",
          "1201–1500",
          "1201–1500",
          "1201–1500",
          "1201–1500",
          "1201–1500",
          "1201–1500",
          "1201–1500",
          "1201–1500",
          "1201–1500",
          "1201–1500",
          "1201–1500",
          "1201–1500",
          "1201–1500",
          "1201–1500",
          "1201–1500",
          "1201–1500",
          "1201–1500",
          "1201–1500",
          "1201–1500",
          "1201–1500",
          "1201–1500",
          "1201–1500",
          "1201–1500",
          "1201–1500",
          "1201–1500",
          "1201–1500",
          "1201–1500",
          "1201–1500",
          "1201–1500",
          "1201–1500",
          "1201–1500",
          "1201–1500",
          "1201–1500",
          "1201–1500",
          "1201–1500",
          "1201–1500",
          "1201–1500",
          "1201–1500",
          "1201–1500",
          "1201–1500",
          "1201–1500",
          "1201–1500",
          "1201–1500",
          "1201–1500",
          "1201–1500",
          "1201–1500",
          "1201–1500",
          "1201–1500",
          "1201–1500",
          "1201–1500",
          "1201–1500",
          "1201–1500",
          "1201–1500",
          "1201–1500",
          "1201–1500",
          "1201–1500",
          "1201–1500",
          "1201–1500",
          "1201–1500",
          "1201–1500",
          "1201–1500",
          "1201–1500",
          "1201–1500",
          "1201–1500",
          "1201–1500",
          "1201–1500",
          "1201–1500",
          "1201–1500",
          "1201–1500",
          "1201–1500",
          "1201–1500",
          "1201–1500",
          "1201–1500",
          "1201–1500",
          "1201–1500",
          "1201–1500",
          "1201–1500",
          "1201–1500",
          "1201–1500",
          "1201–1500",
          "1201–1500",
          "1201–1500",
          "1201–1500",
          "1201–1500",
          "1201–1500",
          "1201–1500",
          "1201–1500",
          "1201–1500",
          "1201–1500",
          "1201–1500",
          "1201–1500",
          "1201–1500",
          "1201–1500",
          "1201–1500",
          "1201–1500",
          "1201–1500",
          "1201–1500",
          "1201–1500",
          "1201–1500",
          "1201–1500",
          "1201–1500",
          "1201–1500",
          "1201–1500",
          "1201–1500",
          "1201–1500",
          "1201–1500",
          "1201–1500",
          "1201–1500",
          "1201–1500",
          "1201–1500",
          "1201–1500",
          "1201–1500",
          "1201–1500",
          "1201–1500",
          "1201–1500",
          "1201–1500",
          "1201–1500",
          "1201–1500",
          "1201–1500",
          "1201–1500",
          "1201–1500",
          "1201–1500",
          "1201–1500",
          "1201–1500",
          "1201–1500",
          "1201–1500",
          "1201–1500",
          "1201–1500",
          "1201–1500",
          "1201–1500",
          "1201–1500",
          "1201–1500",
          "1201–1500",
          "1201–1500",
          "1201–1500",
          "1201–1500",
          "1201–1500",
          "1201–1500",
          "1201–1500",
          "1201–1500",
          "1501+",
          "1501+",
          "1501+",
          "1501+",
          "1501+",
          "1501+",
          "1501+",
          "1501+",
          "1501+",
          "1501+",
          "1501+",
          "1501+",
          "1501+",
          "1501+",
          "1501+",
          "1501+",
          "1501+",
          "1501+",
          "1501+",
          "1501+",
          "1501+",
          "1501+",
          "1501+",
          "1501+",
          "1501+",
          "1501+",
          "1501+",
          "1501+",
          "1501+",
          "1501+",
          "1501+",
          "1501+",
          "1501+",
          "1501+",
          "1501+",
          "1501+",
          "1501+",
          "1501+",
          "1501+",
          "1501+",
          "1501+",
          "1501+",
          "1501+",
          "1501+",
          "1501+",
          "1501+",
          "1501+",
          "1501+",
          "1501+",
          "1501+",
          "1501+",
          "1501+",
          "1501+",
          "1501+",
          "1501+",
          "1501+",
          "1501+",
          "1501+",
          "1501+",
          "1501+",
          "1501+",
          "1501+",
          "1501+",
          "1501+",
          "1501+",
          "1501+",
          "1501+",
          "1501+",
          "1501+",
          "1501+",
          "1501+",
          "1501+",
          "1501+",
          "1501+",
          "1501+",
          "1501+",
          "1501+",
          "1501+",
          "1501+",
          "1501+",
          "1501+",
          "1501+",
          "1501+",
          "1501+",
          "1501+",
          "1501+",
          "1501+",
          "1501+",
          "1501+",
          "1501+",
          "1501+",
          "1501+",
          "1501+",
          "1501+",
          "1501+",
          "1501+",
          "1501+",
          "1501+",
          "1501+",
          "1501+",
          "1501+",
          "1501+",
          "1501+",
          "1501+",
          "1501+",
          "1501+",
          "1501+",
          "1501+",
          "1501+",
          "1501+",
          "1501+",
          "1501+",
          "1501+",
          "1501+",
          "1501+",
          "1501+",
          "1501+",
          "1501+",
          "1501+",
          "1501+",
          "1501+",
          "1501+",
          "1501+",
          "1501+",
          "1501+",
          "1501+",
          "1501+",
          "1501+",
          "1501+",
          "1501+",
          "1501+",
          "1501+",
          "1501+",
          "1501+",
          "1501+",
          "1501+",
          "1501+",
          "1501+",
          "1501+",
          "1501+",
          "1501+",
          "1501+",
          "1501+",
          "1501+",
          "1501+",
          "1501+",
          "1501+",
          "1501+",
          "1501+",
          "1501+",
          "1501+",
          "1501+",
          "1501+",
          "1501+",
          "1501+",
          "1501+",
          "1501+",
          "1501+",
          "1501+",
          "1501+",
          "1501+",
          "1501+",
          "1501+",
          "1501+",
          "1501+",
          "1501+",
          "1501+",
          "1501+",
          "1501+",
          "1501+",
          "1501+",
          "1501+",
          "1501+",
          "1501+",
          "1501+",
          "1501+",
          "1501+",
          "1501+",
          "1501+",
          "1501+",
          "1501+",
          "1501+",
          "1501+",
          "1501+",
          "1501+",
          "1501+",
          "1501+",
          "1501+",
          "1501+",
          "1501+",
          "1501+",
          "1501+",
          "1501+",
          "1501+",
          "1501+",
          "1501+",
          "1501+",
          "1501+",
          "1501+",
          "1501+",
          "1501+",
          "1501+",
          "1501+",
          "1501+",
          "1501+",
          "1501+",
          "1501+",
          "1501+",
          "1501+",
          "1501+",
          "1501+",
          "1501+",
          "1501+",
          "1501+",
          "1501+",
          "1501+",
          "1501+",
          "1501+",
          "1501+",
          "1501+",
          "1501+",
          "1501+",
          "1501+",
          "1501+",
          "1501+",
          "1501+",
          "1501+",
          "1501+",
          "1501+",
          "1501+",
          "1501+",
          "1501+",
          "1501+",
          "1501+",
          "1501+",
          "1501+",
          "1501+",
          "1501+",
          "1501+",
          "1501+",
          "1501+",
          "1501+",
          "1501+",
          "1501+",
          "1501+",
          "1501+",
          "1501+",
          "1501+",
          "1501+",
          "1501+",
          "1501+",
          "1501+",
          "1501+",
          "Reporter",
          "Reporter",
          "Reporter",
          "Reporter",
          "Reporter",
          "Reporter",
          "Reporter",
          "Reporter",
          "Reporter",
          "Reporter",
          "Reporter",
          "Reporter",
          "Reporter",
          "Reporter",
          "Reporter",
          "Reporter",
          "Reporter",
          "Reporter",
          "Reporter",
          "Reporter",
          "Reporter",
          "Reporter",
          "Reporter",
          "Reporter",
          "Reporter",
          "Reporter",
          "Reporter",
          "Reporter",
          "Reporter",
          "Reporter",
          "Reporter",
          "Reporter",
          "Reporter",
          "Reporter",
          "Reporter",
          "Reporter",
          "Reporter",
          "Reporter",
          "Reporter",
          "Reporter",
          "Reporter",
          "Reporter",
          "Reporter",
          "Reporter",
          "Reporter",
          "Reporter",
          "Reporter",
          "Reporter",
          "Reporter",
          "Reporter",
          "Reporter",
          "Reporter",
          "Reporter",
          "Reporter",
          "Reporter",
          "Reporter",
          "Reporter",
          "Reporter",
          "Reporter",
          "Reporter",
          "Reporter",
          "Reporter",
          "Reporter",
          "Reporter",
          "Reporter",
          "Reporter",
          "Reporter",
          "Reporter",
          "Reporter",
          "Reporter",
          "Reporter",
          "Reporter",
          "Reporter",
          "Reporter",
          "Reporter",
          "Reporter",
          "Reporter",
          "Reporter",
          "Reporter",
          "Reporter",
          "Reporter",
          "Reporter",
          "Reporter",
          "Reporter",
          "Reporter",
          "Reporter",
          "Reporter",
          "Reporter",
          "Reporter",
          "Reporter",
          "Reporter",
          "Reporter",
          "Reporter",
          "Reporter",
          "Reporter",
          "Reporter",
          "Reporter",
          "Reporter",
          "Reporter",
          "Reporter",
          "Reporter",
          "Reporter",
          "Reporter",
          "Reporter",
          "Reporter",
          "Reporter",
          "Reporter",
          "Reporter",
          "Reporter",
          "Reporter",
          "Reporter",
          "Reporter",
          "Reporter",
          "Reporter",
          "Reporter",
          "Reporter",
          "Reporter",
          "Reporter",
          "Reporter",
          "Reporter",
          "Reporter",
          "Reporter",
          "Reporter",
          "Reporter",
          "Reporter",
          "Reporter",
          "Reporter",
          "Reporter",
          "Reporter",
          "Reporter",
          "Reporter",
          "Reporter",
          "Reporter",
          "Reporter",
          "Reporter",
          "Reporter",
          "Reporter",
          "Reporter",
          "Reporter",
          "Reporter",
          "Reporter",
          "Reporter",
          "Reporter",
          "Reporter",
          "Reporter",
          "Reporter",
          "Reporter",
          "Reporter",
          "Reporter",
          "Reporter",
          "Reporter",
          "Reporter",
          "Reporter",
          "Reporter",
          "Reporter",
          "Reporter",
          "Reporter",
          "Reporter",
          "Reporter",
          "Reporter",
          "Reporter",
          "Reporter",
          "Reporter",
          "Reporter",
          "Reporter",
          "Reporter",
          "Reporter",
          "Reporter",
          "Reporter",
          "Reporter",
          "Reporter",
          "Reporter",
          "Reporter",
          "Reporter",
          "Reporter",
          "Reporter",
          "Reporter",
          "Reporter",
          "Reporter",
          "Reporter",
          "Reporter",
          "Reporter",
          "Reporter",
          "Reporter",
          "Reporter",
          "Reporter",
          "Reporter",
          "Reporter",
          "Reporter",
          "Reporter",
          "Reporter",
          "Reporter",
          "Reporter",
          "Reporter",
          "Reporter",
          "Reporter",
          "Reporter",
          "Reporter",
          "Reporter",
          "Reporter",
          "Reporter",
          "Reporter",
          "Reporter",
          "Reporter",
          "Reporter",
          "Reporter",
          "Reporter",
          "Reporter",
          "Reporter",
          "Reporter",
          "Reporter",
          "Reporter",
          "Reporter",
          "Reporter",
          "Reporter",
          "Reporter",
          "Reporter",
          "Reporter",
          "Reporter",
          "Reporter",
          "Reporter",
          "Reporter",
          "Reporter",
          "Reporter",
          "Reporter",
          "Reporter",
          "Reporter",
          "Reporter",
          "Reporter",
          "Reporter",
          "Reporter",
          "Reporter",
          "Reporter",
          "Reporter",
          "Reporter",
          "Reporter",
          "Reporter",
          "Reporter",
          "Reporter",
          "Reporter",
          "Reporter",
          "Reporter",
          "Reporter",
          "Reporter",
          "Reporter",
          "Reporter",
          "Reporter",
          "Reporter",
          "Reporter",
          "Reporter",
          "Reporter",
          "Reporter",
          "Reporter",
          "Reporter",
          "Reporter",
          "Reporter",
          "Reporter",
          "Reporter",
          "Reporter",
          "Reporter",
          "Reporter",
          "Reporter",
          "Reporter",
          "Reporter",
          "Reporter",
          "Reporter",
          "Reporter",
          "Reporter",
          "Reporter",
          "Reporter",
          "Reporter",
          "Reporter",
          "Reporter",
          "Reporter",
          "Reporter",
          "Reporter",
          "Reporter",
          "Reporter",
          "Reporter",
          "Reporter",
          "Reporter",
          "Reporter",
          "Reporter",
          "Reporter",
          "Reporter",
          "Reporter",
          "Reporter",
          "Reporter",
          "Reporter",
          "Reporter",
          "Reporter",
          "Reporter",
          "Reporter",
          "Reporter",
          "Reporter",
          "Reporter",
          "Reporter",
          "Reporter",
          "Reporter",
          "Reporter",
          "Reporter",
          "Reporter",
          "Reporter",
          "Reporter",
          "Reporter",
          "Reporter",
          "Reporter",
          "Reporter",
          "Reporter",
          "Reporter",
          "Reporter",
          "Reporter",
          "Reporter",
          "Reporter",
          "Reporter",
          "Reporter",
          "Reporter",
          "Reporter",
          "Reporter",
          "Reporter",
          "Reporter",
          "Reporter",
          "Reporter",
          "Reporter",
          "Reporter",
          "Reporter",
          "Reporter",
          "Reporter",
          "Reporter",
          "Reporter",
          "Reporter",
          "Reporter",
          "Reporter",
          "Reporter",
          "Reporter",
          "Reporter",
          "Reporter",
          "Reporter",
          "Reporter",
          "Reporter",
          "Reporter",
          "Reporter",
          "Reporter",
          "Reporter",
          "Reporter",
          "Reporter",
          "Reporter",
          "Reporter",
          "Reporter",
          "Reporter",
          "Reporter",
          "Reporter",
          "Reporter",
          "Reporter",
          "Reporter",
          "Reporter",
          "Reporter",
          "Reporter",
          "Reporter",
          "Reporter",
          "Reporter",
          "Reporter",
          "Reporter",
          "Reporter",
          "Reporter",
          "Reporter",
          "Reporter",
          "Reporter",
          "Reporter",
          "Reporter",
          "Reporter",
          "Reporter",
          "Reporter",
          "Reporter",
          "Reporter",
          "Reporter",
          "Reporter",
          "Reporter",
          "Reporter",
          "Reporter",
          "Reporter",
          "Reporter",
          "Reporter",
          "Reporter",
          "Reporter",
          "Reporter",
          "Reporter",
          "Reporter",
          "Reporter",
          "Reporter",
          "Reporter",
          "Reporter",
          "Reporter",
          "Reporter",
          "Reporter",
          "Reporter",
          "Reporter",
          "Reporter",
          "Reporter",
          "Reporter",
          "Reporter",
          "Reporter",
          "Reporter",
          "Reporter",
          "Reporter",
          "Reporter",
          "Reporter",
          "Reporter",
          "Reporter",
          "Reporter",
          "Reporter",
          "Reporter",
          "Reporter",
          "Reporter",
          "Reporter",
          "Reporter",
          "Reporter",
          "Reporter",
          "Reporter",
          "Reporter",
          "Reporter",
          "Reporter",
          "Reporter",
          "Reporter",
          "Reporter",
          "Reporter",
          "Reporter",
          "Reporter",
          "Reporter",
          "Reporter",
          "Reporter",
          "Reporter",
          "Reporter",
          "Reporter",
          "Reporter",
          "Reporter",
          "Reporter",
          "Reporter",
          "Reporter",
          "Reporter",
          "Reporter",
          "Reporter",
          "Reporter",
          "Reporter",
          "Reporter",
          "Reporter",
          "Reporter",
          "Reporter",
          "Reporter",
          "Reporter",
          "Reporter",
          "Reporter",
          "Reporter",
          "Reporter",
          "Reporter",
          "Reporter",
          "Reporter",
          "Reporter",
          "Reporter",
          "Reporter",
          "Reporter",
          "Reporter",
          "Reporter",
          "Reporter",
          "Reporter",
          "Reporter",
          "Reporter",
          "Reporter",
          "Reporter",
          "Reporter",
          "Reporter",
          "Reporter",
          "Reporter",
          "Reporter",
          "Reporter",
          "Reporter",
          "Reporter",
          "Reporter",
          "Reporter",
          "Reporter",
          "Reporter",
          "Reporter",
          "Reporter",
          "Reporter",
          "Reporter",
          "Reporter",
          "Reporter",
          "Reporter",
          "Reporter",
          "Reporter",
          "Reporter",
          "Reporter",
          "Reporter",
          "Reporter",
          "Reporter",
          "Reporter",
          "Reporter",
          "Reporter",
          "Reporter",
          "Reporter",
          "Reporter",
          "Reporter",
          "Reporter",
          "Reporter",
          "Reporter",
          "Reporter",
          "Reporter",
          "Reporter",
          "Reporter",
          "Reporter",
          "Reporter",
          "Reporter",
          "-",
          "-",
          "-",
          "-",
          "-",
          "-",
          "-",
          "-",
          "-",
          "-",
          "-",
          "-",
          "-",
          "-",
          "-",
          "-",
          "-",
          "-",
          "-",
          "-",
          "-",
          "-",
          "-",
          "-",
          "-",
          "-",
          "-",
          "-",
          "-",
          "-",
          "-",
          "-",
          "-",
          "-",
          "-",
          "-",
          "-",
          "-",
          "-",
          "-",
          "-",
          "-",
          "-",
          "-",
          "-",
          "-",
          "-",
          "-",
          "-",
          "-",
          "-",
          "-",
          "-",
          "-",
          "-",
          "-",
          "-",
          "-",
          "-",
          "-",
          "-",
          "-",
          "-",
          "-",
          "-",
          "-",
          "-",
          "-",
          "-",
          "-",
          "-",
          "-",
          "-",
          "-",
          "-",
          "-",
          "-",
          "-",
          "-",
          "-",
          "-",
          "-",
          "-",
          "-",
          "-",
          "-",
          "-",
          "-",
          "-",
          "-",
          "-",
          "-",
          "-",
          "-",
          "-",
          "-",
          "-",
          "-",
          "-",
          "-",
          "-",
          "-",
          "-",
          "-",
          "-",
          "-",
          "-",
          "-",
          "-",
          "-",
          "-",
          "-",
          "-",
          "-",
          "-",
          "-",
          "-",
          "-",
          "-",
          "-",
          "-",
          "-",
          "-",
          "-",
          "-",
          "-",
          "-",
          "-",
          "-",
          "-",
          "-",
          "-"
         ],
         "xaxis": "x",
         "y": [
          99.7,
          99,
          99.5,
          96.7,
          93.6,
          97,
          95.9,
          95.8,
          92.7,
          90.8,
          87.7,
          95.4,
          88.8,
          88.8,
          91.5,
          97.4,
          96.7,
          93.3,
          93,
          86.1,
          88.9,
          85.4,
          84.6,
          84,
          76.2,
          80.7,
          82.8,
          81.8,
          74.5,
          82.2,
          74.1,
          77.2,
          78.3,
          75.9,
          72.9,
          77.9,
          74.3,
          75.9,
          91.4,
          73.1,
          70.7,
          74.9,
          61.5,
          68.7,
          61.1,
          72.4,
          73.5,
          78.9,
          68.8,
          73.1,
          75.8,
          82.9,
          66.5,
          63.7,
          65.8,
          76.2,
          56.8,
          63.4,
          60.2,
          64.1,
          58,
          69.2,
          66.3,
          61.5,
          58.6,
          66,
          74.8,
          79.1,
          59.7,
          76.4,
          56.1,
          59,
          52.2,
          64.9,
          57.6,
          53.4,
          64.4,
          68.9,
          57,
          57.1,
          62.9,
          46,
          50.8,
          50.7,
          51.1,
          64.3,
          58.2,
          51.8,
          56.1,
          58.3,
          62.4,
          66,
          55.2,
          46.5,
          51.6,
          58.8,
          58.2,
          47.5,
          53,
          64.5,
          44.1,
          36.7,
          56.9,
          57.7,
          49.6,
          55.6,
          60.1,
          46.2,
          47.5,
          58.5,
          53.2,
          51.2,
          52.8,
          47.5,
          44.8,
          46.4,
          60,
          52.7,
          53.8,
          55.5,
          52.2,
          40,
          40.4,
          41.3,
          59.3,
          48.5,
          64.2,
          54.4,
          47.8,
          44.1,
          46.2,
          48.1,
          42.1,
          40.6,
          47.6,
          35,
          41.3,
          45.4,
          44.3,
          40,
          51.6,
          45.2,
          44,
          42.9,
          49.6,
          46.5,
          39.7,
          46.3,
          41.2,
          55.7,
          58.7,
          53.8,
          36.7,
          40.5,
          53.8,
          47.9,
          55.7,
          50.7,
          39.8,
          43.8,
          40.8,
          47.3,
          32.9,
          51.4,
          42.9,
          44.9,
          34.4,
          30.2,
          39.4,
          50.4,
          54,
          40.5,
          42,
          44.6,
          42.6,
          37.7,
          50.4,
          48.2,
          47,
          54.8,
          43.4,
          38.8,
          36.5,
          43.9,
          39.4,
          38.9,
          55.5,
          39.9,
          54.2,
          33.5,
          34.1,
          33.3,
          27.6,
          33.5,
          47.5,
          58.6,
          44.6,
          37.9,
          39.6,
          40.4,
          32.7,
          42.4,
          40.2,
          33.5,
          30.5,
          29.7,
          49.8,
          35.4,
          32.8,
          43.6,
          32.2,
          28.8,
          35.9,
          46.4,
          48.7,
          44.1,
          39.8,
          36,
          30.7,
          30.2,
          35.8,
          40.5,
          36.5,
          44.6,
          38.7,
          39.7,
          37.3,
          43.6,
          28.3,
          40.2,
          61.5,
          44.9,
          18,
          36.9,
          41.4,
          33.9,
          34.2,
          23.3,
          33.1,
          51.2,
          62.3,
          40.3,
          27.8,
          43.6,
          46.4,
          42.1,
          31.7,
          38.2,
          43.3,
          21.3,
          25.9,
          33.8,
          43.8,
          21.8,
          31.5,
          20.7,
          25.4,
          32.7,
          32,
          44.5,
          32,
          31,
          33,
          35.5,
          32.3,
          29.4,
          32.9,
          35.8,
          41.7,
          41.8,
          32.4,
          56.9,
          28.8,
          32.7,
          32.9,
          41.8,
          32.9,
          35.8,
          39.8,
          30.3,
          19.8,
          60.9,
          33.7,
          38,
          47.2,
          29.3,
          21.3,
          36.8,
          32.4,
          36.9,
          37.4,
          28.2,
          46.6,
          52.3,
          46.4,
          29.8,
          34.9,
          36.2,
          44.3,
          15.4,
          24.9,
          22.1,
          16.3,
          31.2,
          27.8,
          23.1,
          22.6,
          33.7,
          23.5,
          20.3,
          30.9,
          26,
          46.2,
          32.4,
          33.1,
          37.3,
          32.7,
          26.8,
          39.5,
          31.6,
          32.7,
          30.4,
          25.9,
          33.6,
          54.1,
          24.9,
          34.5,
          35.8,
          45.3,
          21.5,
          32.7,
          20.4,
          15.8,
          36.1,
          24.3,
          26.8,
          48.6,
          31.1,
          32.2,
          35.9,
          34.8,
          48.2,
          23.1,
          28.4,
          58.2,
          28.8,
          33.7,
          14.8,
          36.5,
          9.5,
          33.3,
          38.6,
          18.8,
          20.7,
          19.2,
          41.2,
          33.2,
          29.3,
          39,
          32.6,
          25.3,
          8.9,
          26.9,
          9.2,
          46.9,
          17.6,
          17.7,
          35.8,
          28.2,
          9.4,
          29.5,
          37.1,
          9.8,
          22.1,
          38.4,
          32.6,
          32.6,
          31.2,
          11.1,
          28.3,
          29.3,
          38.2,
          28.8,
          28.4,
          20.1,
          15.3,
          14.4,
          25.9,
          31.4,
          27,
          23,
          32.6,
          25.5,
          26,
          20.2,
          32.7,
          11.7,
          11,
          24.9,
          8.8,
          24.9,
          11.6,
          10.6,
          20.9,
          24.7,
          39.4,
          26.4,
          46.7,
          13.2,
          21.5,
          27.2,
          30.3,
          29.6,
          34.7,
          29.3,
          26,
          23.1,
          24.7,
          33.8,
          12.6,
          17,
          31.2,
          19.8,
          24.7,
          32.4,
          19.4,
          28.3,
          26.9,
          35,
          40.8,
          26.4,
          15.7,
          21.8,
          30.1,
          30.5,
          15.6,
          36.9,
          8.5,
          37.3,
          33.3,
          24.4,
          18.2,
          42.3,
          34.4,
          14,
          39.2,
          22.6,
          17.4,
          19,
          31.5,
          30.1,
          28.9,
          19.6,
          23.2,
          11,
          27.8,
          20.1,
          31,
          12.6,
          34.7,
          10.6,
          21.8,
          38.1,
          30.2,
          22.7,
          31.9,
          32.3,
          19.2,
          10.3,
          9.8,
          22.9,
          37.7,
          36.3,
          27.9,
          25.3,
          35.6,
          42.3,
          37.7,
          12.6,
          33.9,
          12.3,
          28,
          33.8,
          42.8,
          16,
          32.3,
          17.1,
          29.7,
          37.4,
          29.6,
          10,
          25.7,
          34,
          28.1,
          14.6,
          21.4,
          28.5,
          33.1,
          23.4,
          8.9,
          24.3,
          39.6,
          36.2,
          10.8,
          22.7,
          11.1,
          28.7,
          11.8,
          31,
          21.1,
          8.2,
          11.6,
          14.2,
          30.8,
          27.5,
          27.4,
          31.3,
          25.9,
          13.1,
          16.8,
          33.4,
          40.8,
          24.2,
          31.1,
          40.8,
          28.2,
          24.6,
          32,
          15.4,
          22.6,
          23.1,
          36.8,
          8.5,
          31.4,
          12.5,
          9.5,
          32.9,
          10.3,
          8.4,
          13.4,
          24.8,
          27.3,
          10.3,
          8.3,
          42.5,
          11.9,
          21.5,
          35.7,
          9.5,
          23.6,
          42.4,
          26.7,
          27,
          42.6,
          46.7,
          25.2,
          16.6,
          22.4,
          37.7,
          15,
          18.9,
          8.9,
          17,
          23.3,
          30.3,
          27.6,
          8.5,
          25.1,
          22.8,
          38.5,
          24,
          12.8,
          15.6,
          20.5,
          25.7,
          8.6,
          30.9,
          29.7,
          25.5,
          37.8,
          43.2,
          20.2,
          19.6,
          20.8,
          23.8,
          12,
          26.9,
          12.3,
          18.6,
          10.8,
          42.7,
          9.2,
          16,
          15.5,
          12,
          31.2,
          12.4,
          10,
          37.5,
          22.2,
          16.8,
          21.3,
          31.9,
          9.5,
          27.6,
          23.4,
          13,
          7.8,
          20.9,
          9.1,
          16.9,
          22.8,
          34,
          18.3,
          16.4,
          31.1,
          8.6,
          18.3,
          32.3,
          15.8,
          27.5,
          18.3,
          30.5,
          29.5,
          19.6,
          33.2,
          38.3,
          20.7,
          35.2,
          9.6,
          14.7,
          27.4,
          21.2,
          9,
          24.8,
          16.7,
          29.6,
          17,
          14.8,
          12,
          10.1,
          8.6,
          8.2,
          29.1,
          8.4,
          12.5,
          23.3,
          18.2,
          10.4,
          21.9,
          21.4,
          15.8,
          18.9,
          25.8,
          13.8,
          28.8,
          9,
          19.3,
          20.3,
          14.3,
          8.3,
          26.1,
          29.1,
          23.9,
          10.1,
          13.2,
          28,
          23.7,
          9.1,
          10.7,
          9.9,
          23.7,
          17.5,
          10.8,
          14.9,
          35.5,
          25.3,
          12.6,
          23.5,
          12.5,
          20.2,
          33.4,
          18.3,
          12.4,
          17.7,
          26.7,
          9.3,
          8.5,
          19.2,
          23.9,
          13.6,
          13.9,
          37.8,
          12.1,
          14.4,
          15.7,
          21.4,
          30.3,
          12.1,
          17.8,
          21.4,
          10.7,
          8.2,
          8.5,
          11.4,
          17.4,
          11.5,
          22.3,
          22.2,
          13.5,
          25.8,
          9.7,
          22.7,
          8.5,
          25.3,
          11.1,
          8.8,
          8,
          24.1,
          24.4,
          39.9,
          35.9,
          16,
          27.1,
          17.4,
          24.6,
          21.3,
          20.6,
          19.3,
          9.3,
          18.5,
          13.3,
          31.1,
          10.8,
          20.5,
          24.3,
          16.9,
          22.7,
          22.1,
          12,
          19.3,
          23.1,
          26.7,
          9.9,
          28.2,
          14.7,
          29.1,
          18,
          26.1,
          11.2,
          9,
          22.3,
          25.3,
          11.1,
          18.5,
          19.8,
          23.5,
          8.6,
          33.1,
          21.4,
          24.9,
          23.1,
          18.4,
          26.5,
          10.2,
          15.4,
          19.3,
          17.4,
          13,
          19.1,
          9.6,
          11.7,
          14,
          13.7,
          12.9,
          26.6,
          26.6,
          11.4,
          16.2,
          26.6,
          10.2,
          25.7,
          16.3,
          21.8,
          15.2,
          20.9,
          33,
          8.7,
          22.4,
          27.6,
          24.2,
          11.3,
          24.6,
          15.6,
          17.1,
          18,
          13.9,
          19.9,
          10.6,
          25.2,
          25.5,
          21.4,
          16.3,
          14.4,
          24.6,
          25.4,
          20.3,
          11.1,
          19.6,
          14.6,
          14.2,
          11.8,
          33.1,
          19.1,
          9.9,
          9,
          13.8,
          19.3,
          21.3,
          17.6,
          11.7,
          14.4,
          21.9,
          14.8,
          23.5,
          24,
          27.5,
          15.6,
          14.5,
          32,
          12.1,
          9.9,
          9.2,
          17.6,
          18.6,
          20.8,
          14.4,
          24.7,
          9.9,
          11,
          9.4,
          8.9,
          18.6,
          16.1,
          9.6,
          25.2,
          11,
          10.2,
          35.6,
          9.6,
          23,
          14.2,
          27.6,
          16.5,
          10.6,
          19.5,
          19.5,
          10.6,
          12.4,
          22.5,
          27.7,
          18.2,
          16.7,
          17.8,
          16.6,
          29.7,
          9.3,
          17.7,
          28.9,
          18.5,
          18.8,
          17.7,
          19.6,
          21.2,
          9.3,
          16.1,
          13.7,
          13.7,
          22.9,
          34.7,
          17.7,
          33.2,
          34.4,
          21.6,
          16.6,
          15.9,
          14.5,
          22.2,
          9.5,
          19,
          24.8,
          13.9,
          21.5,
          16.7,
          18.8,
          19.5,
          20.1,
          16.7,
          21.9,
          14.6,
          32.1,
          20.3,
          25.5,
          10.8,
          16.6,
          19.3,
          21.8,
          25.6,
          17.1,
          11.1,
          31.6,
          13.6,
          14,
          17,
          18,
          13.4,
          21.4,
          24.1,
          32.1,
          20.8,
          19.3,
          14.9,
          29.8,
          9.3,
          27.4,
          15.5,
          14.3,
          24.4,
          11,
          27.3,
          17.1,
          19.2,
          23.9,
          8.2,
          12,
          10.2,
          9,
          8.4,
          9.5,
          15,
          31.7,
          19.2,
          14.4,
          30.8,
          7.9,
          17.1,
          18.7,
          14.6,
          27.4,
          14.2,
          15.7,
          22.2,
          19.3,
          14.4,
          18.4,
          15.3,
          8.3,
          16.4,
          11.3,
          17.2,
          25.3,
          13.1,
          10.8,
          17.3,
          17.6,
          12.6,
          8.6,
          19.4,
          16,
          9.4,
          9,
          7.7,
          16,
          11.9,
          8.8,
          28.3,
          12.6,
          12.7,
          12.6,
          14.4,
          14.7,
          12.5,
          18.8,
          12.5,
          16,
          14.6,
          13.9,
          27.9,
          16,
          17,
          18.3,
          18.6,
          19.2,
          15.8,
          24.2,
          16.5,
          15.5,
          14.6,
          13.6,
          14.3,
          24.2,
          13.1,
          22.4,
          15,
          22.3,
          9.9,
          28.8,
          9.8,
          11.1,
          25.3,
          19.2,
          10.2,
          25.7,
          17.4,
          8.6,
          26.5,
          11.8,
          17,
          13.2,
          10.5,
          8.9,
          9.9,
          18.3,
          12,
          12,
          10.9,
          8.6,
          16.8,
          26.5,
          16.2,
          16.5,
          13.7,
          22.3,
          21.9,
          11.7,
          19.9,
          22.3,
          13,
          22.8,
          20.8,
          12.1,
          16.9,
          20,
          8.8,
          23.7,
          19.5,
          11.2,
          9.1,
          9.2,
          17,
          24.2,
          9.4,
          21.8,
          18.9,
          14.2,
          15.9,
          15,
          20.1,
          13,
          13.6,
          11.1,
          11.4,
          13.6,
          8.3,
          12.4,
          10.5,
          10,
          15,
          10.5,
          8.2,
          16.1,
          10.4,
          19.1,
          26.1,
          19.7,
          29.5,
          22.6,
          13.1,
          23.1,
          25.6,
          17.2,
          12.7,
          13.5,
          14.5,
          15.7,
          14.6,
          20.3,
          20.1,
          19.9,
          16.6,
          10.1,
          13,
          11.2,
          11.2,
          21.3,
          21.5,
          8,
          13.5,
          10.5,
          32.5,
          9.6,
          13.2,
          8.7,
          12.9,
          19.2,
          11.3,
          15.6,
          11.3,
          9.8,
          10.7,
          9.2,
          22.6,
          14.8,
          12.7,
          16.6,
          11.2,
          10.4,
          14.8,
          19.5,
          25.9,
          8.3,
          25.5,
          15,
          16.3,
          8.4,
          11,
          13.4,
          12,
          8.6,
          9.6,
          16.3,
          15.5,
          18.8,
          11.9,
          15.3,
          12.3,
          12.7,
          23.7,
          11.5,
          14.6,
          17.5,
          19.4,
          14.9,
          16.4,
          13.9,
          9.6,
          16.5,
          23.8,
          18.4,
          15.2,
          20.4,
          11.1,
          13.6,
          26.7,
          16.3,
          11,
          18.4,
          18.2,
          23.3,
          8.6,
          9.5,
          9.7,
          11.4,
          17.2,
          18.6,
          12.4,
          10.5,
          10.8,
          18.4,
          11.3,
          14.3,
          9.9,
          9.4,
          11,
          14.9,
          10.4,
          12.9,
          18.9,
          14,
          14.4,
          11,
          25.8,
          10.2,
          13.4,
          8.7,
          10.7,
          14.3,
          8.7,
          15.8,
          8.7,
          17.8,
          15.6,
          16.8,
          17.5,
          16.4,
          12.8,
          9.8,
          18.9,
          17,
          16.1,
          13.4,
          12.9,
          22.2,
          20.2,
          24.6,
          21.9,
          18.6,
          12.7,
          14,
          12.2,
          16.1,
          13.3,
          13.4,
          11.6,
          13.8,
          13.3,
          13.3,
          15.3,
          7.8,
          21.1,
          14.1,
          10.2,
          12.4,
          15.4,
          11.1,
          12.2,
          13,
          17.1,
          16,
          10.1,
          12.1,
          19,
          11.1,
          16.7,
          12,
          12.4,
          12.9,
          10.5,
          9.3,
          17.3,
          16.2,
          15.5,
          15.1,
          14.4,
          11.4,
          8.8,
          13,
          11.5,
          9,
          13,
          17,
          18.7,
          23.2,
          10.9,
          13.5,
          8.6,
          8.1,
          8.3,
          10,
          13.6,
          13.3,
          10.7,
          14.6,
          15.8,
          10.8,
          9.7,
          17.2,
          9.5,
          9.5,
          12.3,
          15.6,
          11.5,
          12.2,
          8.9,
          19.4,
          8.8,
          15.9,
          14.1,
          14.4,
          9.2,
          10.3,
          10.1,
          14.3,
          9,
          14.1,
          8.8,
          13.7,
          10.9,
          14.9,
          10.3,
          18.4,
          14.6,
          11.6,
          11.8,
          17.4,
          10,
          17.6,
          17.5,
          12.7,
          19.8,
          13.3,
          10,
          10.7,
          19.9,
          8.6,
          15.7,
          13,
          15.8,
          28.3,
          23.6,
          18.7,
          21,
          18.5,
          21.7,
          10.4,
          9.1,
          10,
          19,
          10.2,
          12.5,
          8.1,
          19.9,
          12.5,
          12.3,
          8.6,
          13,
          8.3,
          17,
          13.9,
          15.1,
          14.6,
          21,
          11.3,
          10.7,
          13.4,
          10,
          18.1,
          13.5,
          12.2,
          12.7,
          14.2,
          13.6,
          8.7,
          22,
          13,
          12.6,
          12.7,
          10.1,
          9,
          16.1,
          11.3,
          10.4,
          9.9,
          17.3,
          13,
          11.1,
          21.1,
          17.7,
          14,
          14.2,
          13.7,
          17.2,
          15,
          10.5,
          17.4,
          11.3,
          14.9,
          9,
          14.2,
          11.1,
          19.4,
          12.5,
          12,
          9.4,
          21.1,
          10.4,
          10.4,
          11.4,
          10.5,
          15.9,
          11.9,
          12.7,
          18.2,
          12.9,
          15.8,
          7.8,
          10.8,
          11,
          11.1,
          11.4,
          12.3,
          16.2,
          18.1,
          17,
          12,
          11.4,
          15,
          11,
          8,
          22.8,
          25.2,
          15.1,
          24.4,
          19.4,
          15,
          21.3,
          10.4,
          12.5,
          12.4,
          13.7,
          24.2,
          11.9,
          14.6,
          10.3,
          16.7,
          15.9,
          9.1,
          13.2,
          8.6,
          28.5,
          7.8,
          14.7,
          13.5,
          10.5,
          12.4,
          11.5,
          17.6,
          16,
          15.4,
          15.2,
          12.7,
          24,
          10,
          14.3,
          14.2,
          13.4,
          12.3,
          14.8,
          20.4,
          21.7,
          8.9,
          14.9,
          12.1,
          9.5,
          8.8,
          11.7,
          8.5,
          11.7,
          11.6,
          7.8,
          9.6,
          8.5,
          8.4,
          7.6,
          8.1,
          9,
          8.6,
          7.9,
          8.7,
          9.9,
          10.3,
          8.7,
          8.1,
          11.1,
          7.8,
          11.2,
          7.8,
          8.3,
          9.4,
          14.6,
          8.5,
          8.2,
          8.3,
          8.5,
          9.4,
          9.3,
          10.1,
          9,
          8.9,
          10,
          7.8,
          16.1,
          9.1,
          9.4,
          10.5,
          11.7,
          7.7,
          14.5,
          15.1,
          9.8,
          10.8,
          9.8,
          9.5,
          8.4,
          11.2,
          8.6,
          10.1,
          8.9,
          9,
          11,
          8.2,
          9.4,
          14.8,
          11.1,
          12.4,
          13.3,
          9.3,
          8.8,
          13.6,
          12.4,
          9.4,
          7.4,
          9.6,
          10.8,
          8.8,
          10.4,
          11.6,
          10.7,
          8.1,
          13.4,
          11,
          10.5,
          10.2,
          9.4,
          10.9,
          8.8,
          16.6,
          12.1,
          8.7,
          9.4,
          11.2,
          9.2,
          9.8,
          9.4,
          10.4,
          8.8,
          8.4,
          8.2,
          9,
          12.3,
          8.7,
          11.3,
          8.1,
          8.1,
          12.3,
          12.2,
          10.1,
          8.4,
          10.6,
          19,
          9.3,
          10.6,
          10.6,
          10.9,
          12.4,
          12.3,
          12.4,
          8,
          8.3,
          10.8,
          9.5,
          11.4,
          20.5,
          17.6,
          8.8,
          11.3,
          11,
          11.2,
          8.3,
          9.2,
          8.5,
          16,
          11.2,
          20.1,
          15.5,
          14.9,
          13.2,
          18,
          10,
          8.4,
          13.5,
          16.8,
          13.3,
          9.1,
          11.4,
          11.1,
          8,
          8.5,
          10.8,
          10.6,
          10.9,
          7.8,
          11.5,
          8.8,
          7.5,
          11,
          8.2,
          8.9,
          10.4,
          19.6,
          9.2,
          16.5,
          13.1,
          14.9,
          10.2,
          14.3,
          13.3,
          15.3,
          13.8,
          13.7,
          13.1,
          8.3,
          7.7,
          11.1,
          7.7,
          13.9,
          11.1,
          10.5,
          8.9,
          12.2,
          10.8,
          8.6,
          11,
          9.1,
          16.7,
          10.1,
          9,
          7.6,
          10,
          8.8,
          11.8,
          10.6,
          9.4,
          10.6,
          8,
          14,
          9.6,
          8.8,
          15.9,
          9.7,
          10,
          9.3,
          10.1,
          13.5,
          8.1,
          9.3,
          7.7,
          13.2,
          11.3,
          14.8,
          12.8,
          9.4,
          12.3,
          10.9,
          11.5,
          9.3,
          11.8,
          8.1,
          10,
          8.6,
          9.9,
          9.2,
          9.1,
          9.9,
          10.3,
          12,
          15.4,
          7.8,
          8.3,
          10.1,
          13.2,
          10.5,
          10.1,
          10.1,
          10.3,
          9.6,
          7.8,
          12.3,
          9,
          9.6,
          9.1,
          12.6,
          10,
          11.6,
          11.4,
          22.7,
          10.1,
          17,
          10.6,
          12.2,
          9.8,
          13.4,
          16,
          12.3,
          10.9,
          12.2,
          8.2,
          null,
          null,
          null,
          null,
          null,
          null,
          null,
          null,
          null,
          null,
          null,
          null,
          null,
          null,
          null,
          null,
          null,
          null,
          null,
          null,
          null,
          null,
          null,
          null,
          null,
          null,
          null,
          null,
          null,
          null,
          null,
          null,
          null,
          null,
          null,
          null,
          null,
          null,
          null,
          null,
          null,
          null,
          null,
          null,
          null,
          null,
          null,
          null,
          null,
          null,
          null,
          null,
          null,
          null,
          null,
          null,
          null,
          null,
          null,
          null,
          null,
          null,
          null,
          null,
          null,
          null,
          null,
          null,
          null,
          null,
          null,
          null,
          null,
          null,
          null,
          null,
          null,
          null,
          null,
          null,
          null,
          null,
          null,
          null,
          null,
          null,
          null,
          null,
          null,
          null,
          null,
          null,
          null,
          null,
          null,
          null,
          null,
          null,
          null,
          null,
          null,
          null,
          null,
          null,
          null,
          null,
          null,
          null,
          null,
          null,
          null,
          null,
          null,
          null,
          null,
          null,
          null,
          null,
          null,
          null,
          null,
          null,
          null,
          null,
          null,
          null,
          null,
          null,
          null,
          null,
          null,
          null,
          null,
          null,
          null,
          null,
          null,
          null,
          null,
          null,
          null,
          null,
          null,
          null,
          null,
          null,
          null,
          null,
          null,
          null,
          null,
          null,
          null,
          null,
          null,
          null,
          null,
          null,
          null,
          null,
          null,
          null,
          null,
          null,
          null,
          null,
          null,
          null,
          null,
          null,
          null,
          null,
          null,
          null,
          null,
          null,
          null,
          null,
          null,
          null,
          null,
          null,
          null,
          null,
          null,
          null,
          null,
          null,
          null,
          null,
          null,
          null,
          null,
          null,
          null,
          null,
          null,
          null,
          null,
          null,
          null,
          null,
          null,
          null,
          null,
          null,
          null,
          null,
          null,
          null,
          null,
          null,
          null,
          null,
          null,
          null,
          null,
          null,
          null,
          null,
          null,
          null,
          null,
          null,
          null,
          null,
          null,
          null,
          null,
          null,
          null,
          null,
          null,
          null,
          null,
          null,
          null,
          null,
          null,
          null,
          null,
          null,
          null,
          null,
          null,
          null,
          null,
          null,
          null,
          null,
          null,
          null,
          null,
          null,
          null,
          null,
          null,
          null,
          null,
          null,
          null,
          null,
          null,
          null,
          null,
          null,
          null,
          null,
          null,
          null,
          null,
          null,
          null,
          null,
          null,
          null,
          null,
          null,
          null,
          null,
          null,
          null,
          null,
          null,
          null,
          null,
          null,
          null,
          null,
          null,
          null,
          null,
          null,
          null,
          null,
          null,
          null,
          null,
          null,
          null,
          null,
          null,
          null,
          null,
          null,
          null,
          null,
          null,
          null,
          null,
          null,
          null,
          null,
          null,
          null,
          null,
          null,
          null,
          null,
          null,
          null,
          null,
          null,
          null,
          null,
          null,
          null,
          null,
          null,
          null,
          null,
          null,
          null,
          null,
          null,
          null,
          null,
          null,
          null,
          null,
          null,
          null,
          null,
          null,
          null,
          null,
          null,
          null,
          null,
          null,
          null,
          null,
          null,
          null,
          null,
          null,
          null,
          null,
          null,
          null,
          null,
          null,
          null,
          null,
          null,
          null,
          null,
          null,
          null,
          null,
          null,
          null,
          null,
          null,
          null,
          null,
          null,
          null,
          null,
          null,
          null,
          null,
          null,
          null,
          null,
          null,
          null,
          null,
          null,
          null,
          null,
          null,
          null,
          null,
          null,
          null,
          null,
          null,
          null,
          null,
          null,
          null,
          null,
          null,
          null,
          null,
          null,
          null,
          null,
          null,
          null,
          null,
          null,
          null,
          null,
          null,
          null,
          null,
          null,
          null,
          null,
          null,
          null,
          null,
          null,
          null,
          null,
          null,
          null,
          null,
          null,
          null,
          null,
          null,
          null,
          null,
          null,
          null,
          null,
          null,
          null,
          null,
          null,
          null,
          null,
          null,
          null,
          null,
          null,
          null,
          null,
          null,
          null,
          null,
          null,
          null,
          null,
          null,
          null,
          null,
          null,
          null,
          null,
          null,
          null,
          null,
          null,
          null,
          null,
          null,
          null,
          null,
          null,
          null,
          null,
          null,
          null,
          null,
          null,
          null,
          null,
          null,
          null,
          null,
          null,
          null,
          null,
          null,
          null,
          null,
          null,
          null,
          null,
          null,
          null,
          null,
          null,
          null,
          null,
          null,
          null,
          null,
          null,
          null,
          null,
          null,
          null,
          null,
          null,
          null,
          null,
          null,
          72.9,
          46.8,
          23.7,
          45.3,
          41.7,
          32,
          14.5,
          14.6,
          22.2,
          12.2,
          21.5,
          37.4,
          32.6,
          19.7,
          34,
          39.7,
          15.7,
          13.3,
          8.8,
          20.2,
          8.7,
          15,
          18.4,
          15,
          9.6,
          12.3,
          9.2,
          9.2,
          12.5,
          12.7,
          11.3,
          13.5,
          13.5,
          11.2,
          15.4,
          19.6,
          13.4,
          15.4,
          23.2,
          9.6,
          8.7,
          9.3,
          10,
          11.4,
          10.6,
          9.5,
          10,
          10,
          9.6,
          13.6,
          11.1,
          9.4,
          16.7,
          9.2,
          9,
          9.7,
          11,
          8.3,
          10.3,
          13,
          9.2,
          8.7,
          9.2,
          8.4,
          10.8,
          11.3,
          9.4,
          8.4,
          16.3,
          11.4,
          8.3,
          10.1,
          11.2,
          12.7,
          9.5,
          8.6,
          10.2,
          8.9,
          null,
          null,
          null,
          null,
          null,
          null,
          null,
          null,
          null,
          null,
          null,
          null,
          null,
          null,
          null,
          null,
          null,
          null,
          null,
          null,
          null,
          null,
          null,
          null,
          null,
          null,
          null,
          null,
          null,
          null,
          20.4,
          21.4,
          13.9,
          12.4,
          20.8,
          31.7,
          17.4,
          28.9,
          19.2,
          21.5,
          12,
          15.1,
          15.4,
          24.4,
          22.3,
          13.3,
          22.8,
          11.2,
          23.7,
          15.5,
          29.4,
          14.3,
          26.7,
          14.8
         ],
         "yaxis": "y"
        }
       ],
       "layout": {
        "legend": {
         "tracegroupgap": 0
        },
        "margin": {
         "t": 60
        },
        "template": {
         "data": {
          "bar": [
           {
            "error_x": {
             "color": "#2a3f5f"
            },
            "error_y": {
             "color": "#2a3f5f"
            },
            "marker": {
             "line": {
              "color": "#E5ECF6",
              "width": 0.5
             },
             "pattern": {
              "fillmode": "overlay",
              "size": 10,
              "solidity": 0.2
             }
            },
            "type": "bar"
           }
          ],
          "barpolar": [
           {
            "marker": {
             "line": {
              "color": "#E5ECF6",
              "width": 0.5
             },
             "pattern": {
              "fillmode": "overlay",
              "size": 10,
              "solidity": 0.2
             }
            },
            "type": "barpolar"
           }
          ],
          "carpet": [
           {
            "aaxis": {
             "endlinecolor": "#2a3f5f",
             "gridcolor": "white",
             "linecolor": "white",
             "minorgridcolor": "white",
             "startlinecolor": "#2a3f5f"
            },
            "baxis": {
             "endlinecolor": "#2a3f5f",
             "gridcolor": "white",
             "linecolor": "white",
             "minorgridcolor": "white",
             "startlinecolor": "#2a3f5f"
            },
            "type": "carpet"
           }
          ],
          "choropleth": [
           {
            "colorbar": {
             "outlinewidth": 0,
             "ticks": ""
            },
            "type": "choropleth"
           }
          ],
          "contour": [
           {
            "colorbar": {
             "outlinewidth": 0,
             "ticks": ""
            },
            "colorscale": [
             [
              0,
              "#0d0887"
             ],
             [
              0.1111111111111111,
              "#46039f"
             ],
             [
              0.2222222222222222,
              "#7201a8"
             ],
             [
              0.3333333333333333,
              "#9c179e"
             ],
             [
              0.4444444444444444,
              "#bd3786"
             ],
             [
              0.5555555555555556,
              "#d8576b"
             ],
             [
              0.6666666666666666,
              "#ed7953"
             ],
             [
              0.7777777777777778,
              "#fb9f3a"
             ],
             [
              0.8888888888888888,
              "#fdca26"
             ],
             [
              1,
              "#f0f921"
             ]
            ],
            "type": "contour"
           }
          ],
          "contourcarpet": [
           {
            "colorbar": {
             "outlinewidth": 0,
             "ticks": ""
            },
            "type": "contourcarpet"
           }
          ],
          "heatmap": [
           {
            "colorbar": {
             "outlinewidth": 0,
             "ticks": ""
            },
            "colorscale": [
             [
              0,
              "#0d0887"
             ],
             [
              0.1111111111111111,
              "#46039f"
             ],
             [
              0.2222222222222222,
              "#7201a8"
             ],
             [
              0.3333333333333333,
              "#9c179e"
             ],
             [
              0.4444444444444444,
              "#bd3786"
             ],
             [
              0.5555555555555556,
              "#d8576b"
             ],
             [
              0.6666666666666666,
              "#ed7953"
             ],
             [
              0.7777777777777778,
              "#fb9f3a"
             ],
             [
              0.8888888888888888,
              "#fdca26"
             ],
             [
              1,
              "#f0f921"
             ]
            ],
            "type": "heatmap"
           }
          ],
          "heatmapgl": [
           {
            "colorbar": {
             "outlinewidth": 0,
             "ticks": ""
            },
            "colorscale": [
             [
              0,
              "#0d0887"
             ],
             [
              0.1111111111111111,
              "#46039f"
             ],
             [
              0.2222222222222222,
              "#7201a8"
             ],
             [
              0.3333333333333333,
              "#9c179e"
             ],
             [
              0.4444444444444444,
              "#bd3786"
             ],
             [
              0.5555555555555556,
              "#d8576b"
             ],
             [
              0.6666666666666666,
              "#ed7953"
             ],
             [
              0.7777777777777778,
              "#fb9f3a"
             ],
             [
              0.8888888888888888,
              "#fdca26"
             ],
             [
              1,
              "#f0f921"
             ]
            ],
            "type": "heatmapgl"
           }
          ],
          "histogram": [
           {
            "marker": {
             "pattern": {
              "fillmode": "overlay",
              "size": 10,
              "solidity": 0.2
             }
            },
            "type": "histogram"
           }
          ],
          "histogram2d": [
           {
            "colorbar": {
             "outlinewidth": 0,
             "ticks": ""
            },
            "colorscale": [
             [
              0,
              "#0d0887"
             ],
             [
              0.1111111111111111,
              "#46039f"
             ],
             [
              0.2222222222222222,
              "#7201a8"
             ],
             [
              0.3333333333333333,
              "#9c179e"
             ],
             [
              0.4444444444444444,
              "#bd3786"
             ],
             [
              0.5555555555555556,
              "#d8576b"
             ],
             [
              0.6666666666666666,
              "#ed7953"
             ],
             [
              0.7777777777777778,
              "#fb9f3a"
             ],
             [
              0.8888888888888888,
              "#fdca26"
             ],
             [
              1,
              "#f0f921"
             ]
            ],
            "type": "histogram2d"
           }
          ],
          "histogram2dcontour": [
           {
            "colorbar": {
             "outlinewidth": 0,
             "ticks": ""
            },
            "colorscale": [
             [
              0,
              "#0d0887"
             ],
             [
              0.1111111111111111,
              "#46039f"
             ],
             [
              0.2222222222222222,
              "#7201a8"
             ],
             [
              0.3333333333333333,
              "#9c179e"
             ],
             [
              0.4444444444444444,
              "#bd3786"
             ],
             [
              0.5555555555555556,
              "#d8576b"
             ],
             [
              0.6666666666666666,
              "#ed7953"
             ],
             [
              0.7777777777777778,
              "#fb9f3a"
             ],
             [
              0.8888888888888888,
              "#fdca26"
             ],
             [
              1,
              "#f0f921"
             ]
            ],
            "type": "histogram2dcontour"
           }
          ],
          "mesh3d": [
           {
            "colorbar": {
             "outlinewidth": 0,
             "ticks": ""
            },
            "type": "mesh3d"
           }
          ],
          "parcoords": [
           {
            "line": {
             "colorbar": {
              "outlinewidth": 0,
              "ticks": ""
             }
            },
            "type": "parcoords"
           }
          ],
          "pie": [
           {
            "automargin": true,
            "type": "pie"
           }
          ],
          "scatter": [
           {
            "fillpattern": {
             "fillmode": "overlay",
             "size": 10,
             "solidity": 0.2
            },
            "type": "scatter"
           }
          ],
          "scatter3d": [
           {
            "line": {
             "colorbar": {
              "outlinewidth": 0,
              "ticks": ""
             }
            },
            "marker": {
             "colorbar": {
              "outlinewidth": 0,
              "ticks": ""
             }
            },
            "type": "scatter3d"
           }
          ],
          "scattercarpet": [
           {
            "marker": {
             "colorbar": {
              "outlinewidth": 0,
              "ticks": ""
             }
            },
            "type": "scattercarpet"
           }
          ],
          "scattergeo": [
           {
            "marker": {
             "colorbar": {
              "outlinewidth": 0,
              "ticks": ""
             }
            },
            "type": "scattergeo"
           }
          ],
          "scattergl": [
           {
            "marker": {
             "colorbar": {
              "outlinewidth": 0,
              "ticks": ""
             }
            },
            "type": "scattergl"
           }
          ],
          "scattermapbox": [
           {
            "marker": {
             "colorbar": {
              "outlinewidth": 0,
              "ticks": ""
             }
            },
            "type": "scattermapbox"
           }
          ],
          "scatterpolar": [
           {
            "marker": {
             "colorbar": {
              "outlinewidth": 0,
              "ticks": ""
             }
            },
            "type": "scatterpolar"
           }
          ],
          "scatterpolargl": [
           {
            "marker": {
             "colorbar": {
              "outlinewidth": 0,
              "ticks": ""
             }
            },
            "type": "scatterpolargl"
           }
          ],
          "scatterternary": [
           {
            "marker": {
             "colorbar": {
              "outlinewidth": 0,
              "ticks": ""
             }
            },
            "type": "scatterternary"
           }
          ],
          "surface": [
           {
            "colorbar": {
             "outlinewidth": 0,
             "ticks": ""
            },
            "colorscale": [
             [
              0,
              "#0d0887"
             ],
             [
              0.1111111111111111,
              "#46039f"
             ],
             [
              0.2222222222222222,
              "#7201a8"
             ],
             [
              0.3333333333333333,
              "#9c179e"
             ],
             [
              0.4444444444444444,
              "#bd3786"
             ],
             [
              0.5555555555555556,
              "#d8576b"
             ],
             [
              0.6666666666666666,
              "#ed7953"
             ],
             [
              0.7777777777777778,
              "#fb9f3a"
             ],
             [
              0.8888888888888888,
              "#fdca26"
             ],
             [
              1,
              "#f0f921"
             ]
            ],
            "type": "surface"
           }
          ],
          "table": [
           {
            "cells": {
             "fill": {
              "color": "#EBF0F8"
             },
             "line": {
              "color": "white"
             }
            },
            "header": {
             "fill": {
              "color": "#C8D4E3"
             },
             "line": {
              "color": "white"
             }
            },
            "type": "table"
           }
          ]
         },
         "layout": {
          "annotationdefaults": {
           "arrowcolor": "#2a3f5f",
           "arrowhead": 0,
           "arrowwidth": 1
          },
          "autotypenumbers": "strict",
          "coloraxis": {
           "colorbar": {
            "outlinewidth": 0,
            "ticks": ""
           }
          },
          "colorscale": {
           "diverging": [
            [
             0,
             "#8e0152"
            ],
            [
             0.1,
             "#c51b7d"
            ],
            [
             0.2,
             "#de77ae"
            ],
            [
             0.3,
             "#f1b6da"
            ],
            [
             0.4,
             "#fde0ef"
            ],
            [
             0.5,
             "#f7f7f7"
            ],
            [
             0.6,
             "#e6f5d0"
            ],
            [
             0.7,
             "#b8e186"
            ],
            [
             0.8,
             "#7fbc41"
            ],
            [
             0.9,
             "#4d9221"
            ],
            [
             1,
             "#276419"
            ]
           ],
           "sequential": [
            [
             0,
             "#0d0887"
            ],
            [
             0.1111111111111111,
             "#46039f"
            ],
            [
             0.2222222222222222,
             "#7201a8"
            ],
            [
             0.3333333333333333,
             "#9c179e"
            ],
            [
             0.4444444444444444,
             "#bd3786"
            ],
            [
             0.5555555555555556,
             "#d8576b"
            ],
            [
             0.6666666666666666,
             "#ed7953"
            ],
            [
             0.7777777777777778,
             "#fb9f3a"
            ],
            [
             0.8888888888888888,
             "#fdca26"
            ],
            [
             1,
             "#f0f921"
            ]
           ],
           "sequentialminus": [
            [
             0,
             "#0d0887"
            ],
            [
             0.1111111111111111,
             "#46039f"
            ],
            [
             0.2222222222222222,
             "#7201a8"
            ],
            [
             0.3333333333333333,
             "#9c179e"
            ],
            [
             0.4444444444444444,
             "#bd3786"
            ],
            [
             0.5555555555555556,
             "#d8576b"
            ],
            [
             0.6666666666666666,
             "#ed7953"
            ],
            [
             0.7777777777777778,
             "#fb9f3a"
            ],
            [
             0.8888888888888888,
             "#fdca26"
            ],
            [
             1,
             "#f0f921"
            ]
           ]
          },
          "colorway": [
           "#636efa",
           "#EF553B",
           "#00cc96",
           "#ab63fa",
           "#FFA15A",
           "#19d3f3",
           "#FF6692",
           "#B6E880",
           "#FF97FF",
           "#FECB52"
          ],
          "font": {
           "color": "#2a3f5f"
          },
          "geo": {
           "bgcolor": "white",
           "lakecolor": "white",
           "landcolor": "#E5ECF6",
           "showlakes": true,
           "showland": true,
           "subunitcolor": "white"
          },
          "hoverlabel": {
           "align": "left"
          },
          "hovermode": "closest",
          "mapbox": {
           "style": "light"
          },
          "paper_bgcolor": "white",
          "plot_bgcolor": "#E5ECF6",
          "polar": {
           "angularaxis": {
            "gridcolor": "white",
            "linecolor": "white",
            "ticks": ""
           },
           "bgcolor": "#E5ECF6",
           "radialaxis": {
            "gridcolor": "white",
            "linecolor": "white",
            "ticks": ""
           }
          },
          "scene": {
           "xaxis": {
            "backgroundcolor": "#E5ECF6",
            "gridcolor": "white",
            "gridwidth": 2,
            "linecolor": "white",
            "showbackground": true,
            "ticks": "",
            "zerolinecolor": "white"
           },
           "yaxis": {
            "backgroundcolor": "#E5ECF6",
            "gridcolor": "white",
            "gridwidth": 2,
            "linecolor": "white",
            "showbackground": true,
            "ticks": "",
            "zerolinecolor": "white"
           },
           "zaxis": {
            "backgroundcolor": "#E5ECF6",
            "gridcolor": "white",
            "gridwidth": 2,
            "linecolor": "white",
            "showbackground": true,
            "ticks": "",
            "zerolinecolor": "white"
           }
          },
          "shapedefaults": {
           "line": {
            "color": "#2a3f5f"
           }
          },
          "ternary": {
           "aaxis": {
            "gridcolor": "white",
            "linecolor": "white",
            "ticks": ""
           },
           "baxis": {
            "gridcolor": "white",
            "linecolor": "white",
            "ticks": ""
           },
           "bgcolor": "#E5ECF6",
           "caxis": {
            "gridcolor": "white",
            "linecolor": "white",
            "ticks": ""
           }
          },
          "title": {
           "x": 0.05
          },
          "xaxis": {
           "automargin": true,
           "gridcolor": "white",
           "linecolor": "white",
           "ticks": "",
           "title": {
            "standoff": 15
           },
           "zerolinecolor": "white",
           "zerolinewidth": 2
          },
          "yaxis": {
           "automargin": true,
           "gridcolor": "white",
           "linecolor": "white",
           "ticks": "",
           "title": {
            "standoff": 15
           },
           "zerolinecolor": "white",
           "zerolinewidth": 2
          }
         }
        },
        "xaxis": {
         "anchor": "y",
         "domain": [
          0,
          1
         ],
         "title": {
          "text": "University Rank"
         }
        },
        "yaxis": {
         "anchor": "x",
         "domain": [
          0,
          1
         ],
         "title": {
          "text": "Research Score"
         }
        }
       }
      }
     },
     "metadata": {},
     "output_type": "display_data"
    }
   ],
   "source": [
    "px.scatter(df, x=\"University Rank\", y=\"Research Score\")"
   ]
  },
  {
   "cell_type": "code",
   "execution_count": 2,
   "metadata": {},
   "outputs": [
    {
     "data": {
      "application/vnd.plotly.v1+json": {
       "config": {
        "plotlyServerURL": "https://plot.ly"
       },
       "data": [
        {
         "alignmentgroup": "True",
         "bingroup": "x",
         "histfunc": "avg",
         "hovertemplate": "sex=Female<br>total_bill=%{x}<br>avg of tip=%{y}<extra></extra>",
         "legendgroup": "Female",
         "marker": {
          "color": "#636efa",
          "pattern": {
           "shape": ""
          }
         },
         "name": "Female",
         "offsetgroup": "Female",
         "orientation": "v",
         "showlegend": true,
         "type": "histogram",
         "x": [
          16.99,
          24.59,
          35.26,
          14.83,
          10.33,
          16.97,
          20.29,
          15.77,
          19.65,
          15.06,
          20.69,
          16.93,
          10.29,
          34.81,
          26.41,
          16.45,
          3.07,
          17.07,
          26.86,
          25.28,
          14.73,
          10.07,
          34.83,
          5.75,
          16.32,
          22.75,
          11.35,
          15.38,
          44.3,
          22.42,
          20.92,
          14.31,
          7.25,
          25.71,
          17.31,
          10.65,
          12.43,
          24.08,
          13.42,
          12.48,
          29.8,
          14.52,
          11.38,
          20.27,
          11.17,
          12.26,
          18.26,
          8.51,
          10.33,
          14.15,
          13.16,
          17.47,
          27.05,
          16.43,
          8.35,
          18.64,
          11.87,
          29.85,
          25,
          13.39,
          16.21,
          17.51,
          10.59,
          10.63,
          9.6,
          20.9,
          18.15,
          19.81,
          43.11,
          13,
          12.74,
          13,
          16.4,
          16.47,
          12.76,
          13.27,
          28.17,
          12.9,
          30.14,
          13.42,
          15.98,
          16.27,
          10.09,
          22.12,
          35.83,
          27.18,
          18.78
         ],
         "xaxis": "x",
         "y": [
          1.01,
          3.61,
          5,
          3.02,
          1.67,
          3.5,
          2.75,
          2.23,
          3,
          3,
          2.45,
          3.07,
          2.6,
          5.2,
          1.5,
          2.47,
          1,
          3,
          3.14,
          5,
          2.2,
          1.83,
          5.17,
          1,
          4.3,
          3.25,
          2.5,
          3,
          2.5,
          3.48,
          4.08,
          4,
          1,
          4,
          3.5,
          1.5,
          1.8,
          2.92,
          1.68,
          2.52,
          4.2,
          2,
          2,
          2.83,
          1.5,
          2,
          3.25,
          1.25,
          2,
          2,
          2.75,
          3.5,
          5,
          2.3,
          1.5,
          1.36,
          1.63,
          5.14,
          3.75,
          2.61,
          2,
          3,
          1.61,
          2,
          4,
          3.5,
          3.5,
          4.19,
          5,
          2,
          2.01,
          2,
          2.5,
          3.23,
          2.23,
          2.5,
          6.5,
          1.1,
          3.09,
          3.48,
          3,
          2.5,
          2,
          2.88,
          4.67,
          2,
          3
         ],
         "yaxis": "y"
        },
        {
         "alignmentgroup": "True",
         "bingroup": "x",
         "histfunc": "avg",
         "hovertemplate": "sex=Male<br>total_bill=%{x}<br>avg of tip=%{y}<extra></extra>",
         "legendgroup": "Male",
         "marker": {
          "color": "#EF553B",
          "pattern": {
           "shape": ""
          }
         },
         "name": "Male",
         "offsetgroup": "Male",
         "orientation": "v",
         "showlegend": true,
         "type": "histogram",
         "x": [
          10.34,
          21.01,
          23.68,
          25.29,
          8.77,
          26.88,
          15.04,
          14.78,
          10.27,
          15.42,
          18.43,
          21.58,
          16.29,
          20.65,
          17.92,
          39.42,
          19.82,
          17.81,
          13.37,
          12.69,
          21.7,
          9.55,
          18.35,
          17.78,
          24.06,
          16.31,
          18.69,
          31.27,
          16.04,
          17.46,
          13.94,
          9.68,
          30.4,
          18.29,
          22.23,
          32.4,
          28.55,
          18.04,
          12.54,
          9.94,
          25.56,
          19.49,
          38.01,
          11.24,
          48.27,
          20.29,
          13.81,
          11.02,
          18.29,
          17.59,
          20.08,
          20.23,
          15.01,
          12.02,
          10.51,
          17.92,
          27.2,
          22.76,
          17.29,
          19.44,
          16.66,
          32.68,
          15.98,
          13.03,
          18.28,
          24.71,
          21.16,
          28.97,
          22.49,
          40.17,
          27.28,
          12.03,
          21.01,
          12.46,
          15.36,
          20.49,
          25.21,
          18.24,
          14,
          38.07,
          23.95,
          29.93,
          11.69,
          14.26,
          15.95,
          8.52,
          22.82,
          19.08,
          16,
          34.3,
          41.19,
          9.78,
          7.51,
          14.07,
          13.13,
          17.26,
          24.55,
          19.77,
          48.17,
          16.49,
          21.5,
          12.66,
          13.81,
          24.52,
          20.76,
          31.71,
          50.81,
          15.81,
          7.25,
          31.85,
          16.82,
          32.9,
          17.89,
          14.48,
          34.63,
          34.65,
          23.33,
          45.35,
          23.17,
          40.55,
          20.69,
          30.46,
          23.1,
          15.69,
          28.44,
          15.48,
          16.58,
          7.56,
          10.34,
          13.51,
          18.71,
          20.53,
          26.59,
          38.73,
          24.27,
          30.06,
          25.89,
          48.33,
          28.15,
          11.59,
          7.74,
          12.16,
          8.58,
          13.42,
          20.45,
          13.28,
          24.01,
          15.69,
          11.61,
          10.77,
          15.53,
          10.07,
          12.6,
          32.83,
          29.03,
          22.67,
          17.82
         ],
         "xaxis": "x",
         "y": [
          1.66,
          3.5,
          3.31,
          4.71,
          2,
          3.12,
          1.96,
          3.23,
          1.71,
          1.57,
          3,
          3.92,
          3.71,
          3.35,
          4.08,
          7.58,
          3.18,
          2.34,
          2,
          2,
          4.3,
          1.45,
          2.5,
          3.27,
          3.6,
          2,
          2.31,
          5,
          2.24,
          2.54,
          3.06,
          1.32,
          5.6,
          3,
          5,
          6,
          2.05,
          3,
          2.5,
          1.56,
          4.34,
          3.51,
          3,
          1.76,
          6.73,
          3.21,
          2,
          1.98,
          3.76,
          2.64,
          3.15,
          2.01,
          2.09,
          1.97,
          1.25,
          3.08,
          4,
          3,
          2.71,
          3,
          3.4,
          5,
          2.03,
          2,
          4,
          5.85,
          3,
          3,
          3.5,
          4.73,
          4,
          1.5,
          3,
          1.5,
          1.64,
          4.06,
          4.29,
          3.76,
          3,
          4,
          2.55,
          5.07,
          2.31,
          2.5,
          2,
          1.48,
          2.18,
          1.5,
          2,
          6.7,
          5,
          1.73,
          2,
          2.5,
          2,
          2.74,
          2,
          2,
          5,
          2,
          3.5,
          2.5,
          2,
          3.48,
          2.24,
          4.5,
          10,
          3.16,
          5.15,
          3.18,
          4,
          3.11,
          2,
          2,
          3.55,
          3.68,
          5.65,
          3.5,
          6.5,
          3,
          5,
          2,
          4,
          1.5,
          2.56,
          2.02,
          4,
          1.44,
          2,
          2,
          4,
          4,
          3.41,
          3,
          2.03,
          2,
          5.16,
          9,
          3,
          1.5,
          1.44,
          2.2,
          1.92,
          1.58,
          3,
          2.72,
          2,
          3,
          3.39,
          1.47,
          3,
          1.25,
          1,
          1.17,
          5.92,
          2,
          1.75
         ],
         "yaxis": "y"
        }
       ],
       "layout": {
        "barmode": "relative",
        "legend": {
         "title": {
          "text": "sex"
         },
         "tracegroupgap": 0
        },
        "margin": {
         "t": 60
        },
        "template": {
         "data": {
          "bar": [
           {
            "error_x": {
             "color": "#2a3f5f"
            },
            "error_y": {
             "color": "#2a3f5f"
            },
            "marker": {
             "line": {
              "color": "#E5ECF6",
              "width": 0.5
             },
             "pattern": {
              "fillmode": "overlay",
              "size": 10,
              "solidity": 0.2
             }
            },
            "type": "bar"
           }
          ],
          "barpolar": [
           {
            "marker": {
             "line": {
              "color": "#E5ECF6",
              "width": 0.5
             },
             "pattern": {
              "fillmode": "overlay",
              "size": 10,
              "solidity": 0.2
             }
            },
            "type": "barpolar"
           }
          ],
          "carpet": [
           {
            "aaxis": {
             "endlinecolor": "#2a3f5f",
             "gridcolor": "white",
             "linecolor": "white",
             "minorgridcolor": "white",
             "startlinecolor": "#2a3f5f"
            },
            "baxis": {
             "endlinecolor": "#2a3f5f",
             "gridcolor": "white",
             "linecolor": "white",
             "minorgridcolor": "white",
             "startlinecolor": "#2a3f5f"
            },
            "type": "carpet"
           }
          ],
          "choropleth": [
           {
            "colorbar": {
             "outlinewidth": 0,
             "ticks": ""
            },
            "type": "choropleth"
           }
          ],
          "contour": [
           {
            "colorbar": {
             "outlinewidth": 0,
             "ticks": ""
            },
            "colorscale": [
             [
              0,
              "#0d0887"
             ],
             [
              0.1111111111111111,
              "#46039f"
             ],
             [
              0.2222222222222222,
              "#7201a8"
             ],
             [
              0.3333333333333333,
              "#9c179e"
             ],
             [
              0.4444444444444444,
              "#bd3786"
             ],
             [
              0.5555555555555556,
              "#d8576b"
             ],
             [
              0.6666666666666666,
              "#ed7953"
             ],
             [
              0.7777777777777778,
              "#fb9f3a"
             ],
             [
              0.8888888888888888,
              "#fdca26"
             ],
             [
              1,
              "#f0f921"
             ]
            ],
            "type": "contour"
           }
          ],
          "contourcarpet": [
           {
            "colorbar": {
             "outlinewidth": 0,
             "ticks": ""
            },
            "type": "contourcarpet"
           }
          ],
          "heatmap": [
           {
            "colorbar": {
             "outlinewidth": 0,
             "ticks": ""
            },
            "colorscale": [
             [
              0,
              "#0d0887"
             ],
             [
              0.1111111111111111,
              "#46039f"
             ],
             [
              0.2222222222222222,
              "#7201a8"
             ],
             [
              0.3333333333333333,
              "#9c179e"
             ],
             [
              0.4444444444444444,
              "#bd3786"
             ],
             [
              0.5555555555555556,
              "#d8576b"
             ],
             [
              0.6666666666666666,
              "#ed7953"
             ],
             [
              0.7777777777777778,
              "#fb9f3a"
             ],
             [
              0.8888888888888888,
              "#fdca26"
             ],
             [
              1,
              "#f0f921"
             ]
            ],
            "type": "heatmap"
           }
          ],
          "heatmapgl": [
           {
            "colorbar": {
             "outlinewidth": 0,
             "ticks": ""
            },
            "colorscale": [
             [
              0,
              "#0d0887"
             ],
             [
              0.1111111111111111,
              "#46039f"
             ],
             [
              0.2222222222222222,
              "#7201a8"
             ],
             [
              0.3333333333333333,
              "#9c179e"
             ],
             [
              0.4444444444444444,
              "#bd3786"
             ],
             [
              0.5555555555555556,
              "#d8576b"
             ],
             [
              0.6666666666666666,
              "#ed7953"
             ],
             [
              0.7777777777777778,
              "#fb9f3a"
             ],
             [
              0.8888888888888888,
              "#fdca26"
             ],
             [
              1,
              "#f0f921"
             ]
            ],
            "type": "heatmapgl"
           }
          ],
          "histogram": [
           {
            "marker": {
             "pattern": {
              "fillmode": "overlay",
              "size": 10,
              "solidity": 0.2
             }
            },
            "type": "histogram"
           }
          ],
          "histogram2d": [
           {
            "colorbar": {
             "outlinewidth": 0,
             "ticks": ""
            },
            "colorscale": [
             [
              0,
              "#0d0887"
             ],
             [
              0.1111111111111111,
              "#46039f"
             ],
             [
              0.2222222222222222,
              "#7201a8"
             ],
             [
              0.3333333333333333,
              "#9c179e"
             ],
             [
              0.4444444444444444,
              "#bd3786"
             ],
             [
              0.5555555555555556,
              "#d8576b"
             ],
             [
              0.6666666666666666,
              "#ed7953"
             ],
             [
              0.7777777777777778,
              "#fb9f3a"
             ],
             [
              0.8888888888888888,
              "#fdca26"
             ],
             [
              1,
              "#f0f921"
             ]
            ],
            "type": "histogram2d"
           }
          ],
          "histogram2dcontour": [
           {
            "colorbar": {
             "outlinewidth": 0,
             "ticks": ""
            },
            "colorscale": [
             [
              0,
              "#0d0887"
             ],
             [
              0.1111111111111111,
              "#46039f"
             ],
             [
              0.2222222222222222,
              "#7201a8"
             ],
             [
              0.3333333333333333,
              "#9c179e"
             ],
             [
              0.4444444444444444,
              "#bd3786"
             ],
             [
              0.5555555555555556,
              "#d8576b"
             ],
             [
              0.6666666666666666,
              "#ed7953"
             ],
             [
              0.7777777777777778,
              "#fb9f3a"
             ],
             [
              0.8888888888888888,
              "#fdca26"
             ],
             [
              1,
              "#f0f921"
             ]
            ],
            "type": "histogram2dcontour"
           }
          ],
          "mesh3d": [
           {
            "colorbar": {
             "outlinewidth": 0,
             "ticks": ""
            },
            "type": "mesh3d"
           }
          ],
          "parcoords": [
           {
            "line": {
             "colorbar": {
              "outlinewidth": 0,
              "ticks": ""
             }
            },
            "type": "parcoords"
           }
          ],
          "pie": [
           {
            "automargin": true,
            "type": "pie"
           }
          ],
          "scatter": [
           {
            "fillpattern": {
             "fillmode": "overlay",
             "size": 10,
             "solidity": 0.2
            },
            "type": "scatter"
           }
          ],
          "scatter3d": [
           {
            "line": {
             "colorbar": {
              "outlinewidth": 0,
              "ticks": ""
             }
            },
            "marker": {
             "colorbar": {
              "outlinewidth": 0,
              "ticks": ""
             }
            },
            "type": "scatter3d"
           }
          ],
          "scattercarpet": [
           {
            "marker": {
             "colorbar": {
              "outlinewidth": 0,
              "ticks": ""
             }
            },
            "type": "scattercarpet"
           }
          ],
          "scattergeo": [
           {
            "marker": {
             "colorbar": {
              "outlinewidth": 0,
              "ticks": ""
             }
            },
            "type": "scattergeo"
           }
          ],
          "scattergl": [
           {
            "marker": {
             "colorbar": {
              "outlinewidth": 0,
              "ticks": ""
             }
            },
            "type": "scattergl"
           }
          ],
          "scattermapbox": [
           {
            "marker": {
             "colorbar": {
              "outlinewidth": 0,
              "ticks": ""
             }
            },
            "type": "scattermapbox"
           }
          ],
          "scatterpolar": [
           {
            "marker": {
             "colorbar": {
              "outlinewidth": 0,
              "ticks": ""
             }
            },
            "type": "scatterpolar"
           }
          ],
          "scatterpolargl": [
           {
            "marker": {
             "colorbar": {
              "outlinewidth": 0,
              "ticks": ""
             }
            },
            "type": "scatterpolargl"
           }
          ],
          "scatterternary": [
           {
            "marker": {
             "colorbar": {
              "outlinewidth": 0,
              "ticks": ""
             }
            },
            "type": "scatterternary"
           }
          ],
          "surface": [
           {
            "colorbar": {
             "outlinewidth": 0,
             "ticks": ""
            },
            "colorscale": [
             [
              0,
              "#0d0887"
             ],
             [
              0.1111111111111111,
              "#46039f"
             ],
             [
              0.2222222222222222,
              "#7201a8"
             ],
             [
              0.3333333333333333,
              "#9c179e"
             ],
             [
              0.4444444444444444,
              "#bd3786"
             ],
             [
              0.5555555555555556,
              "#d8576b"
             ],
             [
              0.6666666666666666,
              "#ed7953"
             ],
             [
              0.7777777777777778,
              "#fb9f3a"
             ],
             [
              0.8888888888888888,
              "#fdca26"
             ],
             [
              1,
              "#f0f921"
             ]
            ],
            "type": "surface"
           }
          ],
          "table": [
           {
            "cells": {
             "fill": {
              "color": "#EBF0F8"
             },
             "line": {
              "color": "white"
             }
            },
            "header": {
             "fill": {
              "color": "#C8D4E3"
             },
             "line": {
              "color": "white"
             }
            },
            "type": "table"
           }
          ]
         },
         "layout": {
          "annotationdefaults": {
           "arrowcolor": "#2a3f5f",
           "arrowhead": 0,
           "arrowwidth": 1
          },
          "autotypenumbers": "strict",
          "coloraxis": {
           "colorbar": {
            "outlinewidth": 0,
            "ticks": ""
           }
          },
          "colorscale": {
           "diverging": [
            [
             0,
             "#8e0152"
            ],
            [
             0.1,
             "#c51b7d"
            ],
            [
             0.2,
             "#de77ae"
            ],
            [
             0.3,
             "#f1b6da"
            ],
            [
             0.4,
             "#fde0ef"
            ],
            [
             0.5,
             "#f7f7f7"
            ],
            [
             0.6,
             "#e6f5d0"
            ],
            [
             0.7,
             "#b8e186"
            ],
            [
             0.8,
             "#7fbc41"
            ],
            [
             0.9,
             "#4d9221"
            ],
            [
             1,
             "#276419"
            ]
           ],
           "sequential": [
            [
             0,
             "#0d0887"
            ],
            [
             0.1111111111111111,
             "#46039f"
            ],
            [
             0.2222222222222222,
             "#7201a8"
            ],
            [
             0.3333333333333333,
             "#9c179e"
            ],
            [
             0.4444444444444444,
             "#bd3786"
            ],
            [
             0.5555555555555556,
             "#d8576b"
            ],
            [
             0.6666666666666666,
             "#ed7953"
            ],
            [
             0.7777777777777778,
             "#fb9f3a"
            ],
            [
             0.8888888888888888,
             "#fdca26"
            ],
            [
             1,
             "#f0f921"
            ]
           ],
           "sequentialminus": [
            [
             0,
             "#0d0887"
            ],
            [
             0.1111111111111111,
             "#46039f"
            ],
            [
             0.2222222222222222,
             "#7201a8"
            ],
            [
             0.3333333333333333,
             "#9c179e"
            ],
            [
             0.4444444444444444,
             "#bd3786"
            ],
            [
             0.5555555555555556,
             "#d8576b"
            ],
            [
             0.6666666666666666,
             "#ed7953"
            ],
            [
             0.7777777777777778,
             "#fb9f3a"
            ],
            [
             0.8888888888888888,
             "#fdca26"
            ],
            [
             1,
             "#f0f921"
            ]
           ]
          },
          "colorway": [
           "#636efa",
           "#EF553B",
           "#00cc96",
           "#ab63fa",
           "#FFA15A",
           "#19d3f3",
           "#FF6692",
           "#B6E880",
           "#FF97FF",
           "#FECB52"
          ],
          "font": {
           "color": "#2a3f5f"
          },
          "geo": {
           "bgcolor": "white",
           "lakecolor": "white",
           "landcolor": "#E5ECF6",
           "showlakes": true,
           "showland": true,
           "subunitcolor": "white"
          },
          "hoverlabel": {
           "align": "left"
          },
          "hovermode": "closest",
          "mapbox": {
           "style": "light"
          },
          "paper_bgcolor": "white",
          "plot_bgcolor": "#E5ECF6",
          "polar": {
           "angularaxis": {
            "gridcolor": "white",
            "linecolor": "white",
            "ticks": ""
           },
           "bgcolor": "#E5ECF6",
           "radialaxis": {
            "gridcolor": "white",
            "linecolor": "white",
            "ticks": ""
           }
          },
          "scene": {
           "xaxis": {
            "backgroundcolor": "#E5ECF6",
            "gridcolor": "white",
            "gridwidth": 2,
            "linecolor": "white",
            "showbackground": true,
            "ticks": "",
            "zerolinecolor": "white"
           },
           "yaxis": {
            "backgroundcolor": "#E5ECF6",
            "gridcolor": "white",
            "gridwidth": 2,
            "linecolor": "white",
            "showbackground": true,
            "ticks": "",
            "zerolinecolor": "white"
           },
           "zaxis": {
            "backgroundcolor": "#E5ECF6",
            "gridcolor": "white",
            "gridwidth": 2,
            "linecolor": "white",
            "showbackground": true,
            "ticks": "",
            "zerolinecolor": "white"
           }
          },
          "shapedefaults": {
           "line": {
            "color": "#2a3f5f"
           }
          },
          "ternary": {
           "aaxis": {
            "gridcolor": "white",
            "linecolor": "white",
            "ticks": ""
           },
           "baxis": {
            "gridcolor": "white",
            "linecolor": "white",
            "ticks": ""
           },
           "bgcolor": "#E5ECF6",
           "caxis": {
            "gridcolor": "white",
            "linecolor": "white",
            "ticks": ""
           }
          },
          "title": {
           "x": 0.05
          },
          "xaxis": {
           "automargin": true,
           "gridcolor": "white",
           "linecolor": "white",
           "ticks": "",
           "title": {
            "standoff": 15
           },
           "zerolinecolor": "white",
           "zerolinewidth": 2
          },
          "yaxis": {
           "automargin": true,
           "gridcolor": "white",
           "linecolor": "white",
           "ticks": "",
           "title": {
            "standoff": 15
           },
           "zerolinecolor": "white",
           "zerolinewidth": 2
          }
         }
        },
        "xaxis": {
         "anchor": "y",
         "domain": [
          0,
          1
         ],
         "title": {
          "text": "total_bill"
         }
        },
        "yaxis": {
         "anchor": "x",
         "domain": [
          0,
          1
         ],
         "title": {
          "text": "avg of tip"
         }
        }
       }
      }
     },
     "metadata": {},
     "output_type": "display_data"
    }
   ],
   "source": [
    "df = px.data.tips()\n",
    "fig = px.histogram(df, x=\"total_bill\", y=\"tip\", color=\"sex\", histfunc=\"avg\")\n",
    "fig.show()"
   ]
  },
  {
   "cell_type": "code",
   "execution_count": 3,
   "metadata": {},
   "outputs": [
    {
     "data": {
      "application/vnd.jupyter.widget-view+json": {
       "model_id": "b19d94f6539b4d81823bc65cce63da0c",
       "version_major": 2,
       "version_minor": 0
      },
      "text/plain": [
       "Box(children=(HTML(value='<div id=\"ifr-pyg-00061a0faf4eb6007UaCxI3XN8iVbzmO\" style=\"height: auto\">\\n    <head>…"
      ]
     },
     "metadata": {},
     "output_type": "display_data"
    },
    {
     "data": {
      "text/html": [],
      "text/plain": [
       "<IPython.core.display.HTML object>"
      ]
     },
     "metadata": {},
     "output_type": "display_data"
    }
   ],
   "source": [
    "import pygwalker as pyg\n",
    "\n",
    "gwalker = pyg.walk(df)"
   ]
  }
 ],
 "metadata": {
  "kernelspec": {
   "display_name": "Python 3",
   "language": "python",
   "name": "python3"
  },
  "language_info": {
   "codemirror_mode": {
    "name": "ipython",
    "version": 3
   },
   "file_extension": ".py",
   "mimetype": "text/x-python",
   "name": "python",
   "nbconvert_exporter": "python",
   "pygments_lexer": "ipython3",
   "version": "3.12.2"
  }
 },
 "nbformat": 4,
 "nbformat_minor": 2
}
